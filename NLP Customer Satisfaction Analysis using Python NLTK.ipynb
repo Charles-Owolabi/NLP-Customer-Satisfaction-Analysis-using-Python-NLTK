{
 "cells": [
  {
   "cell_type": "markdown",
   "id": "6d10720e",
   "metadata": {},
   "source": [
    "# Welcome to The Notebook (NLP Customer Satisfaction Analysis using Python NLTK)\n",
    "---\n",
    "\n",
    "In this guided-project we are going to cover the following tasks: \n",
    "\n",
    "- Task 1: Loading the customer reviews dataset\n",
    "- Task 2: Clean and preprocess the reviews\n",
    "- Task 3: Tokenize the reviews and removing the stop words\n",
    "- Task 4: Exploring the tokens and product categories\n",
    "- Task 5: Extracting the adjectives in the reviews\n",
    "- Task 6: Finding the sentiment of each review \n"
   ]
  },
  {
   "cell_type": "markdown",
   "id": "33f1fd0d",
   "metadata": {},
   "source": [
    "Importing the modules"
   ]
  },
  {
   "cell_type": "code",
   "execution_count": 51,
   "id": "6c99de38",
   "metadata": {},
   "outputs": [
    {
     "name": "stdout",
     "output_type": "stream",
     "text": [
      "Modules are imported! :)\n"
     ]
    },
    {
     "name": "stderr",
     "output_type": "stream",
     "text": [
      "[nltk_data] Downloading package stopwords to\n",
      "[nltk_data]     C:\\Users\\Administrator\\AppData\\Roaming\\nltk_data...\n",
      "[nltk_data]   Package stopwords is already up-to-date!\n",
      "[nltk_data] Downloading package punkt to\n",
      "[nltk_data]     C:\\Users\\Administrator\\AppData\\Roaming\\nltk_data...\n",
      "[nltk_data]   Package punkt is already up-to-date!\n",
      "[nltk_data] Downloading package averaged_perceptron_tagger to\n",
      "[nltk_data]     C:\\Users\\Administrator\\AppData\\Roaming\\nltk_data...\n",
      "[nltk_data]   Package averaged_perceptron_tagger is already up-to-\n",
      "[nltk_data]       date!\n",
      "[nltk_data] Downloading package vader_lexicon to\n",
      "[nltk_data]     C:\\Users\\Administrator\\AppData\\Roaming\\nltk_data...\n",
      "[nltk_data]   Package vader_lexicon is already up-to-date!\n"
     ]
    }
   ],
   "source": [
    "import pandas as pd \n",
    "import string \n",
    "\n",
    "# Importing Natural Language Processing toolkit \n",
    "import nltk\n",
    "\n",
    "# Downloading the NLTK english stop words\n",
    "nltk.download('stopwords')\n",
    "\n",
    "# Downloading the NLTK sentence tokenizer\n",
    "nltk.download('punkt')\n",
    "\n",
    "# Downloading the NLTK POS Tagger\n",
    "nltk.download('averaged_perceptron_tagger')\n",
    "\n",
    "# Downloading the NLTK Vader Lexicon\n",
    "nltk.download('vader_lexicon')\n",
    "\n",
    "# Importing the NLTK english stop words \n",
    "from nltk.corpus import stopwords\n",
    "\n",
    "# Importing frequency distribution from NLTK\n",
    "from nltk.probability import FreqDist\n",
    "\n",
    "# Importing VADER dictionary. It is a rule-based sentiment analyzer\n",
    "from nltk.sentiment import SentimentIntensityAnalyzer\n",
    "\n",
    "# Importing data visualization modules \n",
    "from wordcloud import WordCloud\n",
    "import plotly.express as px \n",
    "import matplotlib.pyplot as plt\n",
    "\n",
    "print(\"Modules are imported! :)\")"
   ]
  },
  {
   "cell_type": "markdown",
   "id": "8421125b",
   "metadata": {},
   "source": [
    "## Task 1\n",
    "\n",
    "### Loading the customer reviews dataset\n",
    "---"
   ]
  },
  {
   "cell_type": "code",
   "execution_count": 52,
   "id": "ae05d325",
   "metadata": {},
   "outputs": [
    {
     "data": {
      "text/html": [
       "<div>\n",
       "<style scoped>\n",
       "    .dataframe tbody tr th:only-of-type {\n",
       "        vertical-align: middle;\n",
       "    }\n",
       "\n",
       "    .dataframe tbody tr th {\n",
       "        vertical-align: top;\n",
       "    }\n",
       "\n",
       "    .dataframe thead th {\n",
       "        text-align: right;\n",
       "    }\n",
       "</style>\n",
       "<table border=\"1\" class=\"dataframe\">\n",
       "  <thead>\n",
       "    <tr style=\"text-align: right;\">\n",
       "      <th></th>\n",
       "      <th>product_review</th>\n",
       "      <th>product_category</th>\n",
       "    </tr>\n",
       "  </thead>\n",
       "  <tbody>\n",
       "    <tr>\n",
       "      <th>0</th>\n",
       "      <td>I love, love, love this jumpsuit. it's fun, fl...</td>\n",
       "      <td>Bottoms</td>\n",
       "    </tr>\n",
       "    <tr>\n",
       "      <th>1</th>\n",
       "      <td>Beautifully made pants and on trend with the f...</td>\n",
       "      <td>Bottoms</td>\n",
       "    </tr>\n",
       "    <tr>\n",
       "      <th>2</th>\n",
       "      <td>I never would have given these pants a second ...</td>\n",
       "      <td>Bottoms</td>\n",
       "    </tr>\n",
       "    <tr>\n",
       "      <th>3</th>\n",
       "      <td>These pants are even better in person. the onl...</td>\n",
       "      <td>Bottoms</td>\n",
       "    </tr>\n",
       "    <tr>\n",
       "      <th>4</th>\n",
       "      <td>The silhouette and length of this skirt and le...</td>\n",
       "      <td>Bottoms</td>\n",
       "    </tr>\n",
       "    <tr>\n",
       "      <th>...</th>\n",
       "      <td>...</td>\n",
       "      <td>...</td>\n",
       "    </tr>\n",
       "    <tr>\n",
       "      <th>3371</th>\n",
       "      <td>This is a nice everyday jacket to wear with dr...</td>\n",
       "      <td>Jackets</td>\n",
       "    </tr>\n",
       "    <tr>\n",
       "      <th>3372</th>\n",
       "      <td>Almost perfect! this jacket doesn't have that ...</td>\n",
       "      <td>Jackets</td>\n",
       "    </tr>\n",
       "    <tr>\n",
       "      <th>3373</th>\n",
       "      <td>I really like the soft and very wearability of...</td>\n",
       "      <td>Jackets</td>\n",
       "    </tr>\n",
       "    <tr>\n",
       "      <th>3374</th>\n",
       "      <td>I need to remember that this brand runs small....</td>\n",
       "      <td>Jackets</td>\n",
       "    </tr>\n",
       "    <tr>\n",
       "      <th>3375</th>\n",
       "      <td>I had my eye on this coat for so long. when i ...</td>\n",
       "      <td>Jackets</td>\n",
       "    </tr>\n",
       "  </tbody>\n",
       "</table>\n",
       "<p>3376 rows × 2 columns</p>\n",
       "</div>"
      ],
      "text/plain": [
       "                                         product_review product_category\n",
       "0     I love, love, love this jumpsuit. it's fun, fl...          Bottoms\n",
       "1     Beautifully made pants and on trend with the f...          Bottoms\n",
       "2     I never would have given these pants a second ...          Bottoms\n",
       "3     These pants are even better in person. the onl...          Bottoms\n",
       "4     The silhouette and length of this skirt and le...          Bottoms\n",
       "...                                                 ...              ...\n",
       "3371  This is a nice everyday jacket to wear with dr...          Jackets\n",
       "3372  Almost perfect! this jacket doesn't have that ...          Jackets\n",
       "3373  I really like the soft and very wearability of...          Jackets\n",
       "3374  I need to remember that this brand runs small....          Jackets\n",
       "3375  I had my eye on this coat for so long. when i ...          Jackets\n",
       "\n",
       "[3376 rows x 2 columns]"
      ]
     },
     "execution_count": 52,
     "metadata": {},
     "output_type": "execute_result"
    }
   ],
   "source": [
    "data = pd.read_csv(\"C:/Users/Administrator/Documents/Project NLP/NLP Customer Satisfaction Analysis using Python NLTK/dataset.csv\")\n",
    "data"
   ]
  },
  {
   "cell_type": "markdown",
   "id": "dba6c185",
   "metadata": {},
   "source": [
    "Let's check the shape of the data frame"
   ]
  },
  {
   "cell_type": "code",
   "execution_count": 53,
   "id": "decc2218",
   "metadata": {},
   "outputs": [
    {
     "data": {
      "text/plain": [
       "(3376, 2)"
      ]
     },
     "execution_count": 53,
     "metadata": {},
     "output_type": "execute_result"
    }
   ],
   "source": [
    "data.shape"
   ]
  },
  {
   "cell_type": "markdown",
   "id": "9943fdcf",
   "metadata": {},
   "source": [
    "Let's check the first `product_review`"
   ]
  },
  {
   "cell_type": "code",
   "execution_count": 54,
   "id": "ba28dd3f",
   "metadata": {},
   "outputs": [
    {
     "data": {
      "text/plain": [
       "\"I love, love, love this jumpsuit. it's fun, flirty, and fabulous! every time i wear it, i get nothing but great compliments!\""
      ]
     },
     "execution_count": 54,
     "metadata": {},
     "output_type": "execute_result"
    }
   ],
   "source": [
    "data.product_review[0]"
   ]
  },
  {
   "cell_type": "markdown",
   "id": "2c022bf2",
   "metadata": {},
   "source": [
    "Checking the number of reviews per product category"
   ]
  },
  {
   "cell_type": "code",
   "execution_count": 55,
   "id": "a1cc3c94",
   "metadata": {},
   "outputs": [
    {
     "data": {
      "text/plain": [
       "product_category\n",
       "Bottoms     685\n",
       "Dresses     681\n",
       "Tops        680\n",
       "Jackets     680\n",
       "Intimate    650\n",
       "Name: count, dtype: int64"
      ]
     },
     "execution_count": 55,
     "metadata": {},
     "output_type": "execute_result"
    }
   ],
   "source": [
    "data.product_category.value_counts()"
   ]
  },
  {
   "cell_type": "markdown",
   "id": "583712e7",
   "metadata": {},
   "source": [
    "## Task 2 \n",
    "\n",
    "### Clean and preprocess the reviews\n",
    "\n",
    "- Lower casing\n",
    "- Removing the punctuations\n",
    "\n",
    "---"
   ]
  },
  {
   "cell_type": "code",
   "execution_count": 56,
   "id": "856a08fd",
   "metadata": {},
   "outputs": [
    {
     "data": {
      "text/html": [
       "<div>\n",
       "<style scoped>\n",
       "    .dataframe tbody tr th:only-of-type {\n",
       "        vertical-align: middle;\n",
       "    }\n",
       "\n",
       "    .dataframe tbody tr th {\n",
       "        vertical-align: top;\n",
       "    }\n",
       "\n",
       "    .dataframe thead th {\n",
       "        text-align: right;\n",
       "    }\n",
       "</style>\n",
       "<table border=\"1\" class=\"dataframe\">\n",
       "  <thead>\n",
       "    <tr style=\"text-align: right;\">\n",
       "      <th></th>\n",
       "      <th>product_review</th>\n",
       "      <th>product_category</th>\n",
       "    </tr>\n",
       "  </thead>\n",
       "  <tbody>\n",
       "    <tr>\n",
       "      <th>0</th>\n",
       "      <td>I love, love, love this jumpsuit. it's fun, fl...</td>\n",
       "      <td>Bottoms</td>\n",
       "    </tr>\n",
       "    <tr>\n",
       "      <th>1</th>\n",
       "      <td>Beautifully made pants and on trend with the f...</td>\n",
       "      <td>Bottoms</td>\n",
       "    </tr>\n",
       "    <tr>\n",
       "      <th>2</th>\n",
       "      <td>I never would have given these pants a second ...</td>\n",
       "      <td>Bottoms</td>\n",
       "    </tr>\n",
       "    <tr>\n",
       "      <th>3</th>\n",
       "      <td>These pants are even better in person. the onl...</td>\n",
       "      <td>Bottoms</td>\n",
       "    </tr>\n",
       "    <tr>\n",
       "      <th>4</th>\n",
       "      <td>The silhouette and length of this skirt and le...</td>\n",
       "      <td>Bottoms</td>\n",
       "    </tr>\n",
       "  </tbody>\n",
       "</table>\n",
       "</div>"
      ],
      "text/plain": [
       "                                      product_review product_category\n",
       "0  I love, love, love this jumpsuit. it's fun, fl...          Bottoms\n",
       "1  Beautifully made pants and on trend with the f...          Bottoms\n",
       "2  I never would have given these pants a second ...          Bottoms\n",
       "3  These pants are even better in person. the onl...          Bottoms\n",
       "4  The silhouette and length of this skirt and le...          Bottoms"
      ]
     },
     "execution_count": 56,
     "metadata": {},
     "output_type": "execute_result"
    }
   ],
   "source": [
    "data.head()"
   ]
  },
  {
   "cell_type": "markdown",
   "id": "066075da",
   "metadata": {},
   "source": [
    "Converting all the reveiews to lower case"
   ]
  },
  {
   "cell_type": "code",
   "execution_count": 57,
   "id": "4f5af4e5-2b08-44ea-a204-a04d82008d23",
   "metadata": {},
   "outputs": [
    {
     "data": {
      "text/plain": [
       "\"i love, love, love this jumpsuit. it's fun, flirty, and fabulous! every time i wear it, i get nothing but great compliments!\""
      ]
     },
     "execution_count": 57,
     "metadata": {},
     "output_type": "execute_result"
    }
   ],
   "source": [
    "#convert the product_review column first row to lower case\n",
    "data.product_review[0].lower()"
   ]
  },
  {
   "cell_type": "code",
   "execution_count": 58,
   "id": "4683ae42",
   "metadata": {},
   "outputs": [
    {
     "data": {
      "text/html": [
       "<div>\n",
       "<style scoped>\n",
       "    .dataframe tbody tr th:only-of-type {\n",
       "        vertical-align: middle;\n",
       "    }\n",
       "\n",
       "    .dataframe tbody tr th {\n",
       "        vertical-align: top;\n",
       "    }\n",
       "\n",
       "    .dataframe thead th {\n",
       "        text-align: right;\n",
       "    }\n",
       "</style>\n",
       "<table border=\"1\" class=\"dataframe\">\n",
       "  <thead>\n",
       "    <tr style=\"text-align: right;\">\n",
       "      <th></th>\n",
       "      <th>product_review</th>\n",
       "      <th>product_category</th>\n",
       "    </tr>\n",
       "  </thead>\n",
       "  <tbody>\n",
       "    <tr>\n",
       "      <th>0</th>\n",
       "      <td>i love, love, love this jumpsuit. it's fun, fl...</td>\n",
       "      <td>Bottoms</td>\n",
       "    </tr>\n",
       "    <tr>\n",
       "      <th>1</th>\n",
       "      <td>beautifully made pants and on trend with the f...</td>\n",
       "      <td>Bottoms</td>\n",
       "    </tr>\n",
       "    <tr>\n",
       "      <th>2</th>\n",
       "      <td>i never would have given these pants a second ...</td>\n",
       "      <td>Bottoms</td>\n",
       "    </tr>\n",
       "    <tr>\n",
       "      <th>3</th>\n",
       "      <td>these pants are even better in person. the onl...</td>\n",
       "      <td>Bottoms</td>\n",
       "    </tr>\n",
       "    <tr>\n",
       "      <th>4</th>\n",
       "      <td>the silhouette and length of this skirt and le...</td>\n",
       "      <td>Bottoms</td>\n",
       "    </tr>\n",
       "  </tbody>\n",
       "</table>\n",
       "</div>"
      ],
      "text/plain": [
       "                                      product_review product_category\n",
       "0  i love, love, love this jumpsuit. it's fun, fl...          Bottoms\n",
       "1  beautifully made pants and on trend with the f...          Bottoms\n",
       "2  i never would have given these pants a second ...          Bottoms\n",
       "3  these pants are even better in person. the onl...          Bottoms\n",
       "4  the silhouette and length of this skirt and le...          Bottoms"
      ]
     },
     "execution_count": 58,
     "metadata": {},
     "output_type": "execute_result"
    }
   ],
   "source": [
    "#convert the product_review column to lower case\n",
    "data.product_review = data.product_review.str.lower()\n",
    "data.head()"
   ]
  },
  {
   "cell_type": "markdown",
   "id": "26864a6a",
   "metadata": {},
   "source": [
    "Removing the punctuations"
   ]
  },
  {
   "cell_type": "code",
   "execution_count": 59,
   "id": "423ff5d2",
   "metadata": {},
   "outputs": [
    {
     "data": {
      "text/plain": [
       "'i love love love this jumpsuit its fun flirty and fabulous every time i wear it i get nothing but great compliments'"
      ]
     },
     "execution_count": 59,
     "metadata": {},
     "output_type": "execute_result"
    }
   ],
   "source": [
    "#Removing the punctuations form the first cell in the product_review column\n",
    "data.product_review[0].translate(str.maketrans('','',string.punctuation))"
   ]
  },
  {
   "cell_type": "markdown",
   "id": "169d70a4",
   "metadata": {},
   "source": [
    "Let's remove the punctuations from all the reviews"
   ]
  },
  {
   "cell_type": "code",
   "execution_count": 60,
   "id": "779656b4",
   "metadata": {},
   "outputs": [
    {
     "data": {
      "text/html": [
       "<div>\n",
       "<style scoped>\n",
       "    .dataframe tbody tr th:only-of-type {\n",
       "        vertical-align: middle;\n",
       "    }\n",
       "\n",
       "    .dataframe tbody tr th {\n",
       "        vertical-align: top;\n",
       "    }\n",
       "\n",
       "    .dataframe thead th {\n",
       "        text-align: right;\n",
       "    }\n",
       "</style>\n",
       "<table border=\"1\" class=\"dataframe\">\n",
       "  <thead>\n",
       "    <tr style=\"text-align: right;\">\n",
       "      <th></th>\n",
       "      <th>product_review</th>\n",
       "      <th>product_category</th>\n",
       "    </tr>\n",
       "  </thead>\n",
       "  <tbody>\n",
       "    <tr>\n",
       "      <th>0</th>\n",
       "      <td>i love love love this jumpsuit its fun flirty ...</td>\n",
       "      <td>Bottoms</td>\n",
       "    </tr>\n",
       "    <tr>\n",
       "      <th>1</th>\n",
       "      <td>beautifully made pants and on trend with the f...</td>\n",
       "      <td>Bottoms</td>\n",
       "    </tr>\n",
       "    <tr>\n",
       "      <th>2</th>\n",
       "      <td>i never would have given these pants a second ...</td>\n",
       "      <td>Bottoms</td>\n",
       "    </tr>\n",
       "    <tr>\n",
       "      <th>3</th>\n",
       "      <td>these pants are even better in person the only...</td>\n",
       "      <td>Bottoms</td>\n",
       "    </tr>\n",
       "    <tr>\n",
       "      <th>4</th>\n",
       "      <td>the silhouette and length of this skirt and le...</td>\n",
       "      <td>Bottoms</td>\n",
       "    </tr>\n",
       "  </tbody>\n",
       "</table>\n",
       "</div>"
      ],
      "text/plain": [
       "                                      product_review product_category\n",
       "0  i love love love this jumpsuit its fun flirty ...          Bottoms\n",
       "1  beautifully made pants and on trend with the f...          Bottoms\n",
       "2  i never would have given these pants a second ...          Bottoms\n",
       "3  these pants are even better in person the only...          Bottoms\n",
       "4  the silhouette and length of this skirt and le...          Bottoms"
      ]
     },
     "execution_count": 60,
     "metadata": {},
     "output_type": "execute_result"
    }
   ],
   "source": [
    "data.product_review = data.product_review.str.translate(str.maketrans('','',string.punctuation))\n",
    "data.head()"
   ]
  },
  {
   "cell_type": "markdown",
   "id": "30bd0470",
   "metadata": {},
   "source": [
    "## Task 3 \n",
    "\n",
    "### Tokenize the reviews and removing the stop words \n",
    "---\n",
    "- <b>Tokenization</b> is the process of breaking down a continuous stream of text, such as a sentence or a paragraph, into smaller units called tokens. These tokens typically correspond to words, but can also represent subword units like prefixes, suffixes, and stems.\n",
    "\n",
    "- <b>Tokenization</b> facilitates the transformation of text into a format that machine learning algorithms can understand."
   ]
  },
  {
   "cell_type": "code",
   "execution_count": 61,
   "id": "c2ee67af",
   "metadata": {},
   "outputs": [
    {
     "data": {
      "text/plain": [
       "['i',\n",
       " 'love',\n",
       " 'love',\n",
       " 'love',\n",
       " 'this',\n",
       " 'jumpsuit',\n",
       " 'its',\n",
       " 'fun',\n",
       " 'flirty',\n",
       " 'and',\n",
       " 'fabulous',\n",
       " 'every',\n",
       " 'time',\n",
       " 'i',\n",
       " 'wear',\n",
       " 'it',\n",
       " 'i',\n",
       " 'get',\n",
       " 'nothing',\n",
       " 'but',\n",
       " 'great',\n",
       " 'compliments']"
      ]
     },
     "execution_count": 61,
     "metadata": {},
     "output_type": "execute_result"
    }
   ],
   "source": [
    "tokens = nltk.word_tokenize(data.product_review[0])\n",
    "tokens"
   ]
  },
  {
   "cell_type": "markdown",
   "id": "37fab949",
   "metadata": {},
   "source": [
    "Let's remove the Stop Words\n",
    "    \n",
    "<b>Stop words</b> are common words (e.g., \"the,\" \"and,\" \"is\") that appear frequently in a language and have little semantic value. Removing them is essential in natural language processing tasks to reduce data size, speed up processing, and improve the accuracy of algorithms by focusing on more informative words that convey the actual meaning of a text.\n"
   ]
  },
  {
   "cell_type": "code",
   "execution_count": 62,
   "id": "db3a98b8",
   "metadata": {},
   "outputs": [
    {
     "data": {
      "text/plain": [
       "['i',\n",
       " 'me',\n",
       " 'my',\n",
       " 'myself',\n",
       " 'we',\n",
       " 'our',\n",
       " 'ours',\n",
       " 'ourselves',\n",
       " 'you',\n",
       " \"you're\",\n",
       " \"you've\",\n",
       " \"you'll\",\n",
       " \"you'd\",\n",
       " 'your',\n",
       " 'yours',\n",
       " 'yourself',\n",
       " 'yourselves',\n",
       " 'he',\n",
       " 'him',\n",
       " 'his',\n",
       " 'himself',\n",
       " 'she',\n",
       " \"she's\",\n",
       " 'her',\n",
       " 'hers',\n",
       " 'herself',\n",
       " 'it',\n",
       " \"it's\",\n",
       " 'its',\n",
       " 'itself',\n",
       " 'they',\n",
       " 'them',\n",
       " 'their',\n",
       " 'theirs',\n",
       " 'themselves',\n",
       " 'what',\n",
       " 'which',\n",
       " 'who',\n",
       " 'whom',\n",
       " 'this',\n",
       " 'that',\n",
       " \"that'll\",\n",
       " 'these',\n",
       " 'those',\n",
       " 'am',\n",
       " 'is',\n",
       " 'are',\n",
       " 'was',\n",
       " 'were',\n",
       " 'be',\n",
       " 'been',\n",
       " 'being',\n",
       " 'have',\n",
       " 'has',\n",
       " 'had',\n",
       " 'having',\n",
       " 'do',\n",
       " 'does',\n",
       " 'did',\n",
       " 'doing',\n",
       " 'a',\n",
       " 'an',\n",
       " 'the',\n",
       " 'and',\n",
       " 'but',\n",
       " 'if',\n",
       " 'or',\n",
       " 'because',\n",
       " 'as',\n",
       " 'until',\n",
       " 'while',\n",
       " 'of',\n",
       " 'at',\n",
       " 'by',\n",
       " 'for',\n",
       " 'with',\n",
       " 'about',\n",
       " 'against',\n",
       " 'between',\n",
       " 'into',\n",
       " 'through',\n",
       " 'during',\n",
       " 'before',\n",
       " 'after',\n",
       " 'above',\n",
       " 'below',\n",
       " 'to',\n",
       " 'from',\n",
       " 'up',\n",
       " 'down',\n",
       " 'in',\n",
       " 'out',\n",
       " 'on',\n",
       " 'off',\n",
       " 'over',\n",
       " 'under',\n",
       " 'again',\n",
       " 'further',\n",
       " 'then',\n",
       " 'once',\n",
       " 'here',\n",
       " 'there',\n",
       " 'when',\n",
       " 'where',\n",
       " 'why',\n",
       " 'how',\n",
       " 'all',\n",
       " 'any',\n",
       " 'both',\n",
       " 'each',\n",
       " 'few',\n",
       " 'more',\n",
       " 'most',\n",
       " 'other',\n",
       " 'some',\n",
       " 'such',\n",
       " 'no',\n",
       " 'nor',\n",
       " 'not',\n",
       " 'only',\n",
       " 'own',\n",
       " 'same',\n",
       " 'so',\n",
       " 'than',\n",
       " 'too',\n",
       " 'very',\n",
       " 's',\n",
       " 't',\n",
       " 'can',\n",
       " 'will',\n",
       " 'just',\n",
       " 'don',\n",
       " \"don't\",\n",
       " 'should',\n",
       " \"should've\",\n",
       " 'now',\n",
       " 'd',\n",
       " 'll',\n",
       " 'm',\n",
       " 'o',\n",
       " 're',\n",
       " 've',\n",
       " 'y',\n",
       " 'ain',\n",
       " 'aren',\n",
       " \"aren't\",\n",
       " 'couldn',\n",
       " \"couldn't\",\n",
       " 'didn',\n",
       " \"didn't\",\n",
       " 'doesn',\n",
       " \"doesn't\",\n",
       " 'hadn',\n",
       " \"hadn't\",\n",
       " 'hasn',\n",
       " \"hasn't\",\n",
       " 'haven',\n",
       " \"haven't\",\n",
       " 'isn',\n",
       " \"isn't\",\n",
       " 'ma',\n",
       " 'mightn',\n",
       " \"mightn't\",\n",
       " 'mustn',\n",
       " \"mustn't\",\n",
       " 'needn',\n",
       " \"needn't\",\n",
       " 'shan',\n",
       " \"shan't\",\n",
       " 'shouldn',\n",
       " \"shouldn't\",\n",
       " 'wasn',\n",
       " \"wasn't\",\n",
       " 'weren',\n",
       " \"weren't\",\n",
       " 'won',\n",
       " \"won't\",\n",
       " 'wouldn',\n",
       " \"wouldn't\",\n",
       " 'is',\n",
       " 'its',\n",
       " 'yours',\n",
       " 'every',\n",
       " 'thing',\n",
       " 'cant',\n",
       " 'dont',\n",
       " 'doesnt']"
      ]
     },
     "execution_count": 62,
     "metadata": {},
     "output_type": "execute_result"
    }
   ],
   "source": [
    "english_stopwords = stopwords.words(\"English\") #stopword in English\n",
    "english_stopwords.extend(['is', 'its', 'yours', 'every', 'thing', 'cant', 'dont', 'doesnt']) #extend the stopwords in English with additionals\n",
    "english_stopwords"
   ]
  },
  {
   "cell_type": "markdown",
   "id": "fa508fe7",
   "metadata": {},
   "source": [
    "Let's remove the stop words from the `tokens` list"
   ]
  },
  {
   "cell_type": "code",
   "execution_count": 63,
   "id": "21fde5e1",
   "metadata": {},
   "outputs": [
    {
     "data": {
      "text/plain": [
       "['love',\n",
       " 'love',\n",
       " 'love',\n",
       " 'jumpsuit',\n",
       " 'fun',\n",
       " 'flirty',\n",
       " 'fabulous',\n",
       " 'time',\n",
       " 'wear',\n",
       " 'get',\n",
       " 'nothing',\n",
       " 'great',\n",
       " 'compliments']"
      ]
     },
     "execution_count": 63,
     "metadata": {},
     "output_type": "execute_result"
    }
   ],
   "source": [
    "clean_words = [word for word in tokens if word not in english_stopwords]\n",
    "clean_words\n"
   ]
  },
  {
   "cell_type": "markdown",
   "id": "83fe3519",
   "metadata": {},
   "source": [
    "Let's tokenize all the reviews "
   ]
  },
  {
   "cell_type": "code",
   "execution_count": 64,
   "id": "c0d660ca",
   "metadata": {},
   "outputs": [
    {
     "data": {
      "text/html": [
       "<div>\n",
       "<style scoped>\n",
       "    .dataframe tbody tr th:only-of-type {\n",
       "        vertical-align: middle;\n",
       "    }\n",
       "\n",
       "    .dataframe tbody tr th {\n",
       "        vertical-align: top;\n",
       "    }\n",
       "\n",
       "    .dataframe thead th {\n",
       "        text-align: right;\n",
       "    }\n",
       "</style>\n",
       "<table border=\"1\" class=\"dataframe\">\n",
       "  <thead>\n",
       "    <tr style=\"text-align: right;\">\n",
       "      <th></th>\n",
       "      <th>product_review</th>\n",
       "      <th>product_category</th>\n",
       "      <th>product_review_tokenized</th>\n",
       "    </tr>\n",
       "  </thead>\n",
       "  <tbody>\n",
       "    <tr>\n",
       "      <th>0</th>\n",
       "      <td>i love love love this jumpsuit its fun flirty ...</td>\n",
       "      <td>Bottoms</td>\n",
       "      <td>[i, love, love, love, this, jumpsuit, its, fun...</td>\n",
       "    </tr>\n",
       "    <tr>\n",
       "      <th>1</th>\n",
       "      <td>beautifully made pants and on trend with the f...</td>\n",
       "      <td>Bottoms</td>\n",
       "      <td>[beautifully, made, pants, and, on, trend, wit...</td>\n",
       "    </tr>\n",
       "    <tr>\n",
       "      <th>2</th>\n",
       "      <td>i never would have given these pants a second ...</td>\n",
       "      <td>Bottoms</td>\n",
       "      <td>[i, never, would, have, given, these, pants, a...</td>\n",
       "    </tr>\n",
       "    <tr>\n",
       "      <th>3</th>\n",
       "      <td>these pants are even better in person the only...</td>\n",
       "      <td>Bottoms</td>\n",
       "      <td>[these, pants, are, even, better, in, person, ...</td>\n",
       "    </tr>\n",
       "    <tr>\n",
       "      <th>4</th>\n",
       "      <td>the silhouette and length of this skirt and le...</td>\n",
       "      <td>Bottoms</td>\n",
       "      <td>[the, silhouette, and, length, of, this, skirt...</td>\n",
       "    </tr>\n",
       "    <tr>\n",
       "      <th>...</th>\n",
       "      <td>...</td>\n",
       "      <td>...</td>\n",
       "      <td>...</td>\n",
       "    </tr>\n",
       "    <tr>\n",
       "      <th>3371</th>\n",
       "      <td>this is a nice everyday jacket to wear with dr...</td>\n",
       "      <td>Jackets</td>\n",
       "      <td>[this, is, a, nice, everyday, jacket, to, wear...</td>\n",
       "    </tr>\n",
       "    <tr>\n",
       "      <th>3372</th>\n",
       "      <td>almost perfect this jacket doesnt have that we...</td>\n",
       "      <td>Jackets</td>\n",
       "      <td>[almost, perfect, this, jacket, doesnt, have, ...</td>\n",
       "    </tr>\n",
       "    <tr>\n",
       "      <th>3373</th>\n",
       "      <td>i really like the soft and very wearability of...</td>\n",
       "      <td>Jackets</td>\n",
       "      <td>[i, really, like, the, soft, and, very, wearab...</td>\n",
       "    </tr>\n",
       "    <tr>\n",
       "      <th>3374</th>\n",
       "      <td>i need to remember that this brand runs small ...</td>\n",
       "      <td>Jackets</td>\n",
       "      <td>[i, need, to, remember, that, this, brand, run...</td>\n",
       "    </tr>\n",
       "    <tr>\n",
       "      <th>3375</th>\n",
       "      <td>i had my eye on this coat for so long when i s...</td>\n",
       "      <td>Jackets</td>\n",
       "      <td>[i, had, my, eye, on, this, coat, for, so, lon...</td>\n",
       "    </tr>\n",
       "  </tbody>\n",
       "</table>\n",
       "<p>3376 rows × 3 columns</p>\n",
       "</div>"
      ],
      "text/plain": [
       "                                         product_review product_category  \\\n",
       "0     i love love love this jumpsuit its fun flirty ...          Bottoms   \n",
       "1     beautifully made pants and on trend with the f...          Bottoms   \n",
       "2     i never would have given these pants a second ...          Bottoms   \n",
       "3     these pants are even better in person the only...          Bottoms   \n",
       "4     the silhouette and length of this skirt and le...          Bottoms   \n",
       "...                                                 ...              ...   \n",
       "3371  this is a nice everyday jacket to wear with dr...          Jackets   \n",
       "3372  almost perfect this jacket doesnt have that we...          Jackets   \n",
       "3373  i really like the soft and very wearability of...          Jackets   \n",
       "3374  i need to remember that this brand runs small ...          Jackets   \n",
       "3375  i had my eye on this coat for so long when i s...          Jackets   \n",
       "\n",
       "                               product_review_tokenized  \n",
       "0     [i, love, love, love, this, jumpsuit, its, fun...  \n",
       "1     [beautifully, made, pants, and, on, trend, wit...  \n",
       "2     [i, never, would, have, given, these, pants, a...  \n",
       "3     [these, pants, are, even, better, in, person, ...  \n",
       "4     [the, silhouette, and, length, of, this, skirt...  \n",
       "...                                                 ...  \n",
       "3371  [this, is, a, nice, everyday, jacket, to, wear...  \n",
       "3372  [almost, perfect, this, jacket, doesnt, have, ...  \n",
       "3373  [i, really, like, the, soft, and, very, wearab...  \n",
       "3374  [i, need, to, remember, that, this, brand, run...  \n",
       "3375  [i, had, my, eye, on, this, coat, for, so, lon...  \n",
       "\n",
       "[3376 rows x 3 columns]"
      ]
     },
     "execution_count": 64,
     "metadata": {},
     "output_type": "execute_result"
    }
   ],
   "source": [
    "data['product_review_tokenized'] = data.product_review.apply(nltk.word_tokenize)\n",
    "data"
   ]
  },
  {
   "cell_type": "markdown",
   "id": "d0fad5cd",
   "metadata": {},
   "source": [
    "remove the stopwords from the tokenized reviews"
   ]
  },
  {
   "cell_type": "code",
   "execution_count": 65,
   "id": "e31cf6c9",
   "metadata": {},
   "outputs": [
    {
     "data": {
      "text/html": [
       "<div>\n",
       "<style scoped>\n",
       "    .dataframe tbody tr th:only-of-type {\n",
       "        vertical-align: middle;\n",
       "    }\n",
       "\n",
       "    .dataframe tbody tr th {\n",
       "        vertical-align: top;\n",
       "    }\n",
       "\n",
       "    .dataframe thead th {\n",
       "        text-align: right;\n",
       "    }\n",
       "</style>\n",
       "<table border=\"1\" class=\"dataframe\">\n",
       "  <thead>\n",
       "    <tr style=\"text-align: right;\">\n",
       "      <th></th>\n",
       "      <th>product_review</th>\n",
       "      <th>product_category</th>\n",
       "      <th>product_review_tokenized</th>\n",
       "      <th>clean_tokens</th>\n",
       "    </tr>\n",
       "  </thead>\n",
       "  <tbody>\n",
       "    <tr>\n",
       "      <th>0</th>\n",
       "      <td>i love love love this jumpsuit its fun flirty ...</td>\n",
       "      <td>Bottoms</td>\n",
       "      <td>[i, love, love, love, this, jumpsuit, its, fun...</td>\n",
       "      <td>[love, love, love, jumpsuit, fun, flirty, fabu...</td>\n",
       "    </tr>\n",
       "    <tr>\n",
       "      <th>1</th>\n",
       "      <td>beautifully made pants and on trend with the f...</td>\n",
       "      <td>Bottoms</td>\n",
       "      <td>[beautifully, made, pants, and, on, trend, wit...</td>\n",
       "      <td>[beautifully, made, pants, trend, flared, crop...</td>\n",
       "    </tr>\n",
       "    <tr>\n",
       "      <th>2</th>\n",
       "      <td>i never would have given these pants a second ...</td>\n",
       "      <td>Bottoms</td>\n",
       "      <td>[i, never, would, have, given, these, pants, a...</td>\n",
       "      <td>[never, would, given, pants, second, look, onl...</td>\n",
       "    </tr>\n",
       "    <tr>\n",
       "      <th>3</th>\n",
       "      <td>these pants are even better in person the only...</td>\n",
       "      <td>Bottoms</td>\n",
       "      <td>[these, pants, are, even, better, in, person, ...</td>\n",
       "      <td>[pants, even, better, person, downside, need, ...</td>\n",
       "    </tr>\n",
       "    <tr>\n",
       "      <th>4</th>\n",
       "      <td>the silhouette and length of this skirt and le...</td>\n",
       "      <td>Bottoms</td>\n",
       "      <td>[the, silhouette, and, length, of, this, skirt...</td>\n",
       "      <td>[silhouette, length, skirt, length, flattering...</td>\n",
       "    </tr>\n",
       "  </tbody>\n",
       "</table>\n",
       "</div>"
      ],
      "text/plain": [
       "                                      product_review product_category  \\\n",
       "0  i love love love this jumpsuit its fun flirty ...          Bottoms   \n",
       "1  beautifully made pants and on trend with the f...          Bottoms   \n",
       "2  i never would have given these pants a second ...          Bottoms   \n",
       "3  these pants are even better in person the only...          Bottoms   \n",
       "4  the silhouette and length of this skirt and le...          Bottoms   \n",
       "\n",
       "                            product_review_tokenized  \\\n",
       "0  [i, love, love, love, this, jumpsuit, its, fun...   \n",
       "1  [beautifully, made, pants, and, on, trend, wit...   \n",
       "2  [i, never, would, have, given, these, pants, a...   \n",
       "3  [these, pants, are, even, better, in, person, ...   \n",
       "4  [the, silhouette, and, length, of, this, skirt...   \n",
       "\n",
       "                                        clean_tokens  \n",
       "0  [love, love, love, jumpsuit, fun, flirty, fabu...  \n",
       "1  [beautifully, made, pants, trend, flared, crop...  \n",
       "2  [never, would, given, pants, second, look, onl...  \n",
       "3  [pants, even, better, person, downside, need, ...  \n",
       "4  [silhouette, length, skirt, length, flattering...  "
      ]
     },
     "execution_count": 65,
     "metadata": {},
     "output_type": "execute_result"
    }
   ],
   "source": [
    "def remove_stopwords(tokens):\n",
    "    return [t for t in tokens if t not in english_stopwords]\n",
    "\n",
    "data['clean_tokens'] = data.product_review_tokenized.apply(remove_stopwords)\n",
    "data.head()\n"
   ]
  },
  {
   "cell_type": "markdown",
   "id": "21390be4",
   "metadata": {},
   "source": [
    "Let's recreate the reviews from the cleaned tokens again"
   ]
  },
  {
   "cell_type": "code",
   "execution_count": 66,
   "id": "ed33ff54",
   "metadata": {},
   "outputs": [
    {
     "data": {
      "text/html": [
       "<div>\n",
       "<style scoped>\n",
       "    .dataframe tbody tr th:only-of-type {\n",
       "        vertical-align: middle;\n",
       "    }\n",
       "\n",
       "    .dataframe tbody tr th {\n",
       "        vertical-align: top;\n",
       "    }\n",
       "\n",
       "    .dataframe thead th {\n",
       "        text-align: right;\n",
       "    }\n",
       "</style>\n",
       "<table border=\"1\" class=\"dataframe\">\n",
       "  <thead>\n",
       "    <tr style=\"text-align: right;\">\n",
       "      <th></th>\n",
       "      <th>product_review</th>\n",
       "      <th>product_category</th>\n",
       "      <th>product_review_tokenized</th>\n",
       "      <th>clean_tokens</th>\n",
       "      <th>product_review_cleaned</th>\n",
       "    </tr>\n",
       "  </thead>\n",
       "  <tbody>\n",
       "    <tr>\n",
       "      <th>0</th>\n",
       "      <td>i love love love this jumpsuit its fun flirty ...</td>\n",
       "      <td>Bottoms</td>\n",
       "      <td>[i, love, love, love, this, jumpsuit, its, fun...</td>\n",
       "      <td>[love, love, love, jumpsuit, fun, flirty, fabu...</td>\n",
       "      <td>love love love jumpsuit fun flirty fabulous ti...</td>\n",
       "    </tr>\n",
       "    <tr>\n",
       "      <th>1</th>\n",
       "      <td>beautifully made pants and on trend with the f...</td>\n",
       "      <td>Bottoms</td>\n",
       "      <td>[beautifully, made, pants, and, on, trend, wit...</td>\n",
       "      <td>[beautifully, made, pants, trend, flared, crop...</td>\n",
       "      <td>beautifully made pants trend flared crop much ...</td>\n",
       "    </tr>\n",
       "    <tr>\n",
       "      <th>2</th>\n",
       "      <td>i never would have given these pants a second ...</td>\n",
       "      <td>Bottoms</td>\n",
       "      <td>[i, never, would, have, given, these, pants, a...</td>\n",
       "      <td>[never, would, given, pants, second, look, onl...</td>\n",
       "      <td>never would given pants second look online per...</td>\n",
       "    </tr>\n",
       "    <tr>\n",
       "      <th>3</th>\n",
       "      <td>these pants are even better in person the only...</td>\n",
       "      <td>Bottoms</td>\n",
       "      <td>[these, pants, are, even, better, in, person, ...</td>\n",
       "      <td>[pants, even, better, person, downside, need, ...</td>\n",
       "      <td>pants even better person downside need dry cle...</td>\n",
       "    </tr>\n",
       "    <tr>\n",
       "      <th>4</th>\n",
       "      <td>the silhouette and length of this skirt and le...</td>\n",
       "      <td>Bottoms</td>\n",
       "      <td>[the, silhouette, and, length, of, this, skirt...</td>\n",
       "      <td>[silhouette, length, skirt, length, flattering...</td>\n",
       "      <td>silhouette length skirt length flattering clas...</td>\n",
       "    </tr>\n",
       "  </tbody>\n",
       "</table>\n",
       "</div>"
      ],
      "text/plain": [
       "                                      product_review product_category  \\\n",
       "0  i love love love this jumpsuit its fun flirty ...          Bottoms   \n",
       "1  beautifully made pants and on trend with the f...          Bottoms   \n",
       "2  i never would have given these pants a second ...          Bottoms   \n",
       "3  these pants are even better in person the only...          Bottoms   \n",
       "4  the silhouette and length of this skirt and le...          Bottoms   \n",
       "\n",
       "                            product_review_tokenized  \\\n",
       "0  [i, love, love, love, this, jumpsuit, its, fun...   \n",
       "1  [beautifully, made, pants, and, on, trend, wit...   \n",
       "2  [i, never, would, have, given, these, pants, a...   \n",
       "3  [these, pants, are, even, better, in, person, ...   \n",
       "4  [the, silhouette, and, length, of, this, skirt...   \n",
       "\n",
       "                                        clean_tokens  \\\n",
       "0  [love, love, love, jumpsuit, fun, flirty, fabu...   \n",
       "1  [beautifully, made, pants, trend, flared, crop...   \n",
       "2  [never, would, given, pants, second, look, onl...   \n",
       "3  [pants, even, better, person, downside, need, ...   \n",
       "4  [silhouette, length, skirt, length, flattering...   \n",
       "\n",
       "                              product_review_cleaned  \n",
       "0  love love love jumpsuit fun flirty fabulous ti...  \n",
       "1  beautifully made pants trend flared crop much ...  \n",
       "2  never would given pants second look online per...  \n",
       "3  pants even better person downside need dry cle...  \n",
       "4  silhouette length skirt length flattering clas...  "
      ]
     },
     "execution_count": 66,
     "metadata": {},
     "output_type": "execute_result"
    }
   ],
   "source": [
    "data['product_review_cleaned'] = data.clean_tokens.apply(lambda x: \" \".join(x))\n",
    "data.head()"
   ]
  },
  {
   "cell_type": "markdown",
   "id": "4081f4a8",
   "metadata": {},
   "source": [
    "## Task 4\n",
    "\n",
    "### Exploring the tokens and product categories"
   ]
  },
  {
   "cell_type": "code",
   "execution_count": 67,
   "id": "95713253",
   "metadata": {},
   "outputs": [
    {
     "data": {
      "text/html": [
       "<div>\n",
       "<style scoped>\n",
       "    .dataframe tbody tr th:only-of-type {\n",
       "        vertical-align: middle;\n",
       "    }\n",
       "\n",
       "    .dataframe tbody tr th {\n",
       "        vertical-align: top;\n",
       "    }\n",
       "\n",
       "    .dataframe thead th {\n",
       "        text-align: right;\n",
       "    }\n",
       "</style>\n",
       "<table border=\"1\" class=\"dataframe\">\n",
       "  <thead>\n",
       "    <tr style=\"text-align: right;\">\n",
       "      <th></th>\n",
       "      <th>product_review</th>\n",
       "      <th>product_category</th>\n",
       "      <th>product_review_tokenized</th>\n",
       "      <th>clean_tokens</th>\n",
       "      <th>product_review_cleaned</th>\n",
       "    </tr>\n",
       "  </thead>\n",
       "  <tbody>\n",
       "    <tr>\n",
       "      <th>0</th>\n",
       "      <td>i love love love this jumpsuit its fun flirty ...</td>\n",
       "      <td>Bottoms</td>\n",
       "      <td>[i, love, love, love, this, jumpsuit, its, fun...</td>\n",
       "      <td>[love, love, love, jumpsuit, fun, flirty, fabu...</td>\n",
       "      <td>love love love jumpsuit fun flirty fabulous ti...</td>\n",
       "    </tr>\n",
       "    <tr>\n",
       "      <th>1</th>\n",
       "      <td>beautifully made pants and on trend with the f...</td>\n",
       "      <td>Bottoms</td>\n",
       "      <td>[beautifully, made, pants, and, on, trend, wit...</td>\n",
       "      <td>[beautifully, made, pants, trend, flared, crop...</td>\n",
       "      <td>beautifully made pants trend flared crop much ...</td>\n",
       "    </tr>\n",
       "    <tr>\n",
       "      <th>2</th>\n",
       "      <td>i never would have given these pants a second ...</td>\n",
       "      <td>Bottoms</td>\n",
       "      <td>[i, never, would, have, given, these, pants, a...</td>\n",
       "      <td>[never, would, given, pants, second, look, onl...</td>\n",
       "      <td>never would given pants second look online per...</td>\n",
       "    </tr>\n",
       "    <tr>\n",
       "      <th>3</th>\n",
       "      <td>these pants are even better in person the only...</td>\n",
       "      <td>Bottoms</td>\n",
       "      <td>[these, pants, are, even, better, in, person, ...</td>\n",
       "      <td>[pants, even, better, person, downside, need, ...</td>\n",
       "      <td>pants even better person downside need dry cle...</td>\n",
       "    </tr>\n",
       "    <tr>\n",
       "      <th>4</th>\n",
       "      <td>the silhouette and length of this skirt and le...</td>\n",
       "      <td>Bottoms</td>\n",
       "      <td>[the, silhouette, and, length, of, this, skirt...</td>\n",
       "      <td>[silhouette, length, skirt, length, flattering...</td>\n",
       "      <td>silhouette length skirt length flattering clas...</td>\n",
       "    </tr>\n",
       "  </tbody>\n",
       "</table>\n",
       "</div>"
      ],
      "text/plain": [
       "                                      product_review product_category  \\\n",
       "0  i love love love this jumpsuit its fun flirty ...          Bottoms   \n",
       "1  beautifully made pants and on trend with the f...          Bottoms   \n",
       "2  i never would have given these pants a second ...          Bottoms   \n",
       "3  these pants are even better in person the only...          Bottoms   \n",
       "4  the silhouette and length of this skirt and le...          Bottoms   \n",
       "\n",
       "                            product_review_tokenized  \\\n",
       "0  [i, love, love, love, this, jumpsuit, its, fun...   \n",
       "1  [beautifully, made, pants, and, on, trend, wit...   \n",
       "2  [i, never, would, have, given, these, pants, a...   \n",
       "3  [these, pants, are, even, better, in, person, ...   \n",
       "4  [the, silhouette, and, length, of, this, skirt...   \n",
       "\n",
       "                                        clean_tokens  \\\n",
       "0  [love, love, love, jumpsuit, fun, flirty, fabu...   \n",
       "1  [beautifully, made, pants, trend, flared, crop...   \n",
       "2  [never, would, given, pants, second, look, onl...   \n",
       "3  [pants, even, better, person, downside, need, ...   \n",
       "4  [silhouette, length, skirt, length, flattering...   \n",
       "\n",
       "                              product_review_cleaned  \n",
       "0  love love love jumpsuit fun flirty fabulous ti...  \n",
       "1  beautifully made pants trend flared crop much ...  \n",
       "2  never would given pants second look online per...  \n",
       "3  pants even better person downside need dry cle...  \n",
       "4  silhouette length skirt length flattering clas...  "
      ]
     },
     "execution_count": 67,
     "metadata": {},
     "output_type": "execute_result"
    }
   ],
   "source": [
    "data.head()"
   ]
  },
  {
   "cell_type": "markdown",
   "id": "eeba90ac",
   "metadata": {},
   "source": [
    "Let's take a look at the product categories again"
   ]
  },
  {
   "cell_type": "code",
   "execution_count": 68,
   "id": "bfdd101f",
   "metadata": {},
   "outputs": [
    {
     "data": {
      "text/plain": [
       "product_category\n",
       "Bottoms     685\n",
       "Dresses     681\n",
       "Tops        680\n",
       "Jackets     680\n",
       "Intimate    650\n",
       "Name: count, dtype: int64"
      ]
     },
     "execution_count": 68,
     "metadata": {},
     "output_type": "execute_result"
    }
   ],
   "source": [
    "data.product_category.value_counts()"
   ]
  },
  {
   "cell_type": "markdown",
   "id": "a365b6dc",
   "metadata": {},
   "source": [
    "Let's combine all the tokens used in reviews for the `Tops`"
   ]
  },
  {
   "cell_type": "code",
   "execution_count": 69,
   "id": "54674262",
   "metadata": {},
   "outputs": [
    {
     "data": {
      "text/plain": [
       "18384"
      ]
     },
     "execution_count": 69,
     "metadata": {},
     "output_type": "execute_result"
    }
   ],
   "source": [
    "tops_tokens = []\n",
    "\n",
    "for x in data[data.product_category == 'Tops'].clean_tokens:\n",
    "    tops_tokens.extend(x)\n",
    "len(tops_tokens)\n",
    "\n"
   ]
  },
  {
   "cell_type": "markdown",
   "id": "be6cebdc",
   "metadata": {},
   "source": [
    "Let's find the 20 most common words in the `Tops` products' reviews "
   ]
  },
  {
   "cell_type": "code",
   "execution_count": 70,
   "id": "3d06c820",
   "metadata": {},
   "outputs": [
    {
     "data": {
      "text/plain": [
       "[('love', 337),\n",
       " ('top', 334),\n",
       " ('wear', 233),\n",
       " ('great', 229),\n",
       " ('size', 211),\n",
       " ('color', 185),\n",
       " ('shirt', 172),\n",
       " ('fit', 167),\n",
       " ('im', 149),\n",
       " ('perfect', 146),\n",
       " ('small', 141),\n",
       " ('like', 140),\n",
       " ('soft', 136),\n",
       " ('flattering', 128),\n",
       " ('little', 120),\n",
       " ('one', 119),\n",
       " ('sweater', 118),\n",
       " ('fits', 112),\n",
       " ('bought', 111),\n",
       " ('well', 109)]"
      ]
     },
     "execution_count": 70,
     "metadata": {},
     "output_type": "execute_result"
    }
   ],
   "source": [
    "freq_dist = FreqDist(tops_tokens)\n",
    "freq_dist.most_common(20)"
   ]
  },
  {
   "cell_type": "markdown",
   "id": "5bcb6cbf",
   "metadata": {},
   "source": [
    "Exercise: Find the 20 most common words in the `Dresses` products' reviews "
   ]
  },
  {
   "cell_type": "code",
   "execution_count": 71,
   "id": "8212717d",
   "metadata": {},
   "outputs": [
    {
     "data": {
      "text/plain": [
       "[('dress', 1062),\n",
       " ('like', 321),\n",
       " ('fabric', 254),\n",
       " ('would', 220),\n",
       " ('size', 207),\n",
       " ('fit', 207),\n",
       " ('back', 166),\n",
       " ('look', 157),\n",
       " ('really', 154),\n",
       " ('love', 152),\n",
       " ('im', 146),\n",
       " ('ordered', 146),\n",
       " ('material', 139),\n",
       " ('small', 128),\n",
       " ('looks', 119),\n",
       " ('looked', 118),\n",
       " ('much', 111),\n",
       " ('also', 106),\n",
       " ('top', 105),\n",
       " ('wear', 105)]"
      ]
     },
     "execution_count": 71,
     "metadata": {},
     "output_type": "execute_result"
    }
   ],
   "source": [
    "dresses_tokens = []\n",
    "\n",
    "for x in data[data.product_category == 'Dresses'].clean_tokens:\n",
    "    dresses_tokens.extend(x)\n",
    "\n",
    "freq_dist_dresses = FreqDist(dresses_tokens)\n",
    "freq_dist_dresses.most_common(20)"
   ]
  },
  {
   "cell_type": "markdown",
   "id": "2a6d15ee",
   "metadata": {},
   "source": [
    "## Task 5\n",
    "\n",
    "### Extracting the adjectives used in the reviews"
   ]
  },
  {
   "cell_type": "code",
   "execution_count": 72,
   "id": "25a8c628",
   "metadata": {},
   "outputs": [
    {
     "data": {
      "text/html": [
       "<div>\n",
       "<style scoped>\n",
       "    .dataframe tbody tr th:only-of-type {\n",
       "        vertical-align: middle;\n",
       "    }\n",
       "\n",
       "    .dataframe tbody tr th {\n",
       "        vertical-align: top;\n",
       "    }\n",
       "\n",
       "    .dataframe thead th {\n",
       "        text-align: right;\n",
       "    }\n",
       "</style>\n",
       "<table border=\"1\" class=\"dataframe\">\n",
       "  <thead>\n",
       "    <tr style=\"text-align: right;\">\n",
       "      <th></th>\n",
       "      <th>product_review</th>\n",
       "      <th>product_category</th>\n",
       "      <th>product_review_tokenized</th>\n",
       "      <th>clean_tokens</th>\n",
       "      <th>product_review_cleaned</th>\n",
       "    </tr>\n",
       "  </thead>\n",
       "  <tbody>\n",
       "    <tr>\n",
       "      <th>0</th>\n",
       "      <td>i love love love this jumpsuit its fun flirty ...</td>\n",
       "      <td>Bottoms</td>\n",
       "      <td>[i, love, love, love, this, jumpsuit, its, fun...</td>\n",
       "      <td>[love, love, love, jumpsuit, fun, flirty, fabu...</td>\n",
       "      <td>love love love jumpsuit fun flirty fabulous ti...</td>\n",
       "    </tr>\n",
       "    <tr>\n",
       "      <th>1</th>\n",
       "      <td>beautifully made pants and on trend with the f...</td>\n",
       "      <td>Bottoms</td>\n",
       "      <td>[beautifully, made, pants, and, on, trend, wit...</td>\n",
       "      <td>[beautifully, made, pants, trend, flared, crop...</td>\n",
       "      <td>beautifully made pants trend flared crop much ...</td>\n",
       "    </tr>\n",
       "    <tr>\n",
       "      <th>2</th>\n",
       "      <td>i never would have given these pants a second ...</td>\n",
       "      <td>Bottoms</td>\n",
       "      <td>[i, never, would, have, given, these, pants, a...</td>\n",
       "      <td>[never, would, given, pants, second, look, onl...</td>\n",
       "      <td>never would given pants second look online per...</td>\n",
       "    </tr>\n",
       "    <tr>\n",
       "      <th>3</th>\n",
       "      <td>these pants are even better in person the only...</td>\n",
       "      <td>Bottoms</td>\n",
       "      <td>[these, pants, are, even, better, in, person, ...</td>\n",
       "      <td>[pants, even, better, person, downside, need, ...</td>\n",
       "      <td>pants even better person downside need dry cle...</td>\n",
       "    </tr>\n",
       "    <tr>\n",
       "      <th>4</th>\n",
       "      <td>the silhouette and length of this skirt and le...</td>\n",
       "      <td>Bottoms</td>\n",
       "      <td>[the, silhouette, and, length, of, this, skirt...</td>\n",
       "      <td>[silhouette, length, skirt, length, flattering...</td>\n",
       "      <td>silhouette length skirt length flattering clas...</td>\n",
       "    </tr>\n",
       "  </tbody>\n",
       "</table>\n",
       "</div>"
      ],
      "text/plain": [
       "                                      product_review product_category  \\\n",
       "0  i love love love this jumpsuit its fun flirty ...          Bottoms   \n",
       "1  beautifully made pants and on trend with the f...          Bottoms   \n",
       "2  i never would have given these pants a second ...          Bottoms   \n",
       "3  these pants are even better in person the only...          Bottoms   \n",
       "4  the silhouette and length of this skirt and le...          Bottoms   \n",
       "\n",
       "                            product_review_tokenized  \\\n",
       "0  [i, love, love, love, this, jumpsuit, its, fun...   \n",
       "1  [beautifully, made, pants, and, on, trend, wit...   \n",
       "2  [i, never, would, have, given, these, pants, a...   \n",
       "3  [these, pants, are, even, better, in, person, ...   \n",
       "4  [the, silhouette, and, length, of, this, skirt...   \n",
       "\n",
       "                                        clean_tokens  \\\n",
       "0  [love, love, love, jumpsuit, fun, flirty, fabu...   \n",
       "1  [beautifully, made, pants, trend, flared, crop...   \n",
       "2  [never, would, given, pants, second, look, onl...   \n",
       "3  [pants, even, better, person, downside, need, ...   \n",
       "4  [silhouette, length, skirt, length, flattering...   \n",
       "\n",
       "                              product_review_cleaned  \n",
       "0  love love love jumpsuit fun flirty fabulous ti...  \n",
       "1  beautifully made pants trend flared crop much ...  \n",
       "2  never would given pants second look online per...  \n",
       "3  pants even better person downside need dry cle...  \n",
       "4  silhouette length skirt length flattering clas...  "
      ]
     },
     "execution_count": 72,
     "metadata": {},
     "output_type": "execute_result"
    }
   ],
   "source": [
    "data.head()"
   ]
  },
  {
   "cell_type": "markdown",
   "id": "63838518",
   "metadata": {},
   "source": [
    "### Part of Speech Tagging\n",
    "\n",
    "\n",
    "<b>Part of Speech:</b> The grammatical role of a word in a sentence. A part of speech is one of the nine types of English words: VERB, NOUN, ADJECTIVE, ADVERB, PRONOUN, PREPOSITION, DETERMINER, CONJUNCTION, INTERJECTION."
   ]
  },
  {
   "cell_type": "code",
   "execution_count": 73,
   "id": "8e174ab6",
   "metadata": {},
   "outputs": [
    {
     "data": {
      "text/plain": [
       "'i love love love this jumpsuit its fun flirty and fabulous every time i wear it i get nothing but great compliments'"
      ]
     },
     "execution_count": 73,
     "metadata": {},
     "output_type": "execute_result"
    }
   ],
   "source": [
    "data.product_review[0]"
   ]
  },
  {
   "cell_type": "code",
   "execution_count": 74,
   "id": "8dae8055-a485-4983-9f1d-76067415ee01",
   "metadata": {},
   "outputs": [
    {
     "name": "stdout",
     "output_type": "stream",
     "text": [
      "$: dollar\n",
      "    $ -$ --$ A$ C$ HK$ M$ NZ$ S$ U.S.$ US$\n",
      "'': closing quotation mark\n",
      "    ' ''\n",
      "(: opening parenthesis\n",
      "    ( [ {\n",
      "): closing parenthesis\n",
      "    ) ] }\n",
      ",: comma\n",
      "    ,\n",
      "--: dash\n",
      "    --\n",
      ".: sentence terminator\n",
      "    . ! ?\n",
      ":: colon or ellipsis\n",
      "    : ; ...\n",
      "CC: conjunction, coordinating\n",
      "    & 'n and both but either et for less minus neither nor or plus so\n",
      "    therefore times v. versus vs. whether yet\n",
      "CD: numeral, cardinal\n",
      "    mid-1890 nine-thirty forty-two one-tenth ten million 0.5 one forty-\n",
      "    seven 1987 twenty '79 zero two 78-degrees eighty-four IX '60s .025\n",
      "    fifteen 271,124 dozen quintillion DM2,000 ...\n",
      "DT: determiner\n",
      "    all an another any both del each either every half la many much nary\n",
      "    neither no some such that the them these this those\n",
      "EX: existential there\n",
      "    there\n",
      "FW: foreign word\n",
      "    gemeinschaft hund ich jeux habeas Haementeria Herr K'ang-si vous\n",
      "    lutihaw alai je jour objets salutaris fille quibusdam pas trop Monte\n",
      "    terram fiche oui corporis ...\n",
      "IN: preposition or conjunction, subordinating\n",
      "    astride among uppon whether out inside pro despite on by throughout\n",
      "    below within for towards near behind atop around if like until below\n",
      "    next into if beside ...\n",
      "JJ: adjective or numeral, ordinal\n",
      "    third ill-mannered pre-war regrettable oiled calamitous first separable\n",
      "    ectoplasmic battery-powered participatory fourth still-to-be-named\n",
      "    multilingual multi-disciplinary ...\n",
      "JJR: adjective, comparative\n",
      "    bleaker braver breezier briefer brighter brisker broader bumper busier\n",
      "    calmer cheaper choosier cleaner clearer closer colder commoner costlier\n",
      "    cozier creamier crunchier cuter ...\n",
      "JJS: adjective, superlative\n",
      "    calmest cheapest choicest classiest cleanest clearest closest commonest\n",
      "    corniest costliest crassest creepiest crudest cutest darkest deadliest\n",
      "    dearest deepest densest dinkiest ...\n",
      "LS: list item marker\n",
      "    A A. B B. C C. D E F First G H I J K One SP-44001 SP-44002 SP-44005\n",
      "    SP-44007 Second Third Three Two * a b c d first five four one six three\n",
      "    two\n",
      "MD: modal auxiliary\n",
      "    can cannot could couldn't dare may might must need ought shall should\n",
      "    shouldn't will would\n",
      "NN: noun, common, singular or mass\n",
      "    common-carrier cabbage knuckle-duster Casino afghan shed thermostat\n",
      "    investment slide humour falloff slick wind hyena override subhumanity\n",
      "    machinist ...\n",
      "NNP: noun, proper, singular\n",
      "    Motown Venneboerger Czestochwa Ranzer Conchita Trumplane Christos\n",
      "    Oceanside Escobar Kreisler Sawyer Cougar Yvette Ervin ODI Darryl CTCA\n",
      "    Shannon A.K.C. Meltex Liverpool ...\n",
      "NNPS: noun, proper, plural\n",
      "    Americans Americas Amharas Amityvilles Amusements Anarcho-Syndicalists\n",
      "    Andalusians Andes Andruses Angels Animals Anthony Antilles Antiques\n",
      "    Apache Apaches Apocrypha ...\n",
      "NNS: noun, common, plural\n",
      "    undergraduates scotches bric-a-brac products bodyguards facets coasts\n",
      "    divestitures storehouses designs clubs fragrances averages\n",
      "    subjectivists apprehensions muses factory-jobs ...\n",
      "PDT: pre-determiner\n",
      "    all both half many quite such sure this\n",
      "POS: genitive marker\n",
      "    ' 's\n",
      "PRP: pronoun, personal\n",
      "    hers herself him himself hisself it itself me myself one oneself ours\n",
      "    ourselves ownself self she thee theirs them themselves they thou thy us\n",
      "PRP$: pronoun, possessive\n",
      "    her his mine my our ours their thy your\n",
      "RB: adverb\n",
      "    occasionally unabatingly maddeningly adventurously professedly\n",
      "    stirringly prominently technologically magisterially predominately\n",
      "    swiftly fiscally pitilessly ...\n",
      "RBR: adverb, comparative\n",
      "    further gloomier grander graver greater grimmer harder harsher\n",
      "    healthier heavier higher however larger later leaner lengthier less-\n",
      "    perfectly lesser lonelier longer louder lower more ...\n",
      "RBS: adverb, superlative\n",
      "    best biggest bluntest earliest farthest first furthest hardest\n",
      "    heartiest highest largest least less most nearest second tightest worst\n",
      "RP: particle\n",
      "    aboard about across along apart around aside at away back before behind\n",
      "    by crop down ever fast for forth from go high i.e. in into just later\n",
      "    low more off on open out over per pie raising start teeth that through\n",
      "    under unto up up-pp upon whole with you\n",
      "SYM: symbol\n",
      "    % & ' '' ''. ) ). * + ,. < = > @ A[fj] U.S U.S.S.R * ** ***\n",
      "TO: \"to\" as preposition or infinitive marker\n",
      "    to\n",
      "UH: interjection\n",
      "    Goodbye Goody Gosh Wow Jeepers Jee-sus Hubba Hey Kee-reist Oops amen\n",
      "    huh howdy uh dammit whammo shucks heck anyways whodunnit honey golly\n",
      "    man baby diddle hush sonuvabitch ...\n",
      "VB: verb, base form\n",
      "    ask assemble assess assign assume atone attention avoid bake balkanize\n",
      "    bank begin behold believe bend benefit bevel beware bless boil bomb\n",
      "    boost brace break bring broil brush build ...\n",
      "VBD: verb, past tense\n",
      "    dipped pleaded swiped regummed soaked tidied convened halted registered\n",
      "    cushioned exacted snubbed strode aimed adopted belied figgered\n",
      "    speculated wore appreciated contemplated ...\n",
      "VBG: verb, present participle or gerund\n",
      "    telegraphing stirring focusing angering judging stalling lactating\n",
      "    hankerin' alleging veering capping approaching traveling besieging\n",
      "    encrypting interrupting erasing wincing ...\n",
      "VBN: verb, past participle\n",
      "    multihulled dilapidated aerosolized chaired languished panelized used\n",
      "    experimented flourished imitated reunifed factored condensed sheared\n",
      "    unsettled primed dubbed desired ...\n",
      "VBP: verb, present tense, not 3rd person singular\n",
      "    predominate wrap resort sue twist spill cure lengthen brush terminate\n",
      "    appear tend stray glisten obtain comprise detest tease attract\n",
      "    emphasize mold postpone sever return wag ...\n",
      "VBZ: verb, present tense, 3rd person singular\n",
      "    bases reconstructs marks mixes displeases seals carps weaves snatches\n",
      "    slumps stretches authorizes smolders pictures emerges stockpiles\n",
      "    seduces fizzes uses bolsters slaps speaks pleads ...\n",
      "WDT: WH-determiner\n",
      "    that what whatever which whichever\n",
      "WP: WH-pronoun\n",
      "    that what whatever whatsoever which who whom whosoever\n",
      "WP$: WH-pronoun, possessive\n",
      "    whose\n",
      "WRB: Wh-adverb\n",
      "    how however whence whenever where whereby whereever wherein whereof why\n",
      "``: opening quotation mark\n",
      "    ` ``\n"
     ]
    },
    {
     "name": "stderr",
     "output_type": "stream",
     "text": [
      "[nltk_data] Downloading package tagsets to\n",
      "[nltk_data]     C:\\Users\\Administrator\\AppData\\Roaming\\nltk_data...\n",
      "[nltk_data]   Package tagsets is already up-to-date!\n"
     ]
    }
   ],
   "source": [
    "nltk.download('tagsets')\n",
    "nltk.help.upenn_tagset()"
   ]
  },
  {
   "cell_type": "code",
   "execution_count": 75,
   "id": "00017688",
   "metadata": {},
   "outputs": [
    {
     "data": {
      "text/plain": [
       "[('i', 'NN'),\n",
       " ('love', 'VBP'),\n",
       " ('love', 'NN'),\n",
       " ('love', 'NN'),\n",
       " ('this', 'DT'),\n",
       " ('jumpsuit', 'NN'),\n",
       " ('its', 'PRP$'),\n",
       " ('fun', 'NN'),\n",
       " ('flirty', 'NN'),\n",
       " ('and', 'CC'),\n",
       " ('fabulous', 'JJ'),\n",
       " ('every', 'DT'),\n",
       " ('time', 'NN'),\n",
       " ('i', 'NN'),\n",
       " ('wear', 'VBP'),\n",
       " ('it', 'PRP'),\n",
       " ('i', 'JJ'),\n",
       " ('get', 'VBP'),\n",
       " ('nothing', 'NN'),\n",
       " ('but', 'CC'),\n",
       " ('great', 'JJ'),\n",
       " ('compliments', 'NNS')]"
      ]
     },
     "execution_count": 75,
     "metadata": {},
     "output_type": "execute_result"
    }
   ],
   "source": [
    "nltk.pos_tag(data.product_review_tokenized[0])"
   ]
  },
  {
   "cell_type": "markdown",
   "id": "70eea700",
   "metadata": {},
   "source": [
    "Let's use the POS-tagger to assign part of speech to all the tokens of all of the reviews"
   ]
  },
  {
   "cell_type": "code",
   "execution_count": 76,
   "id": "15f028a2",
   "metadata": {},
   "outputs": [
    {
     "data": {
      "text/html": [
       "<div>\n",
       "<style scoped>\n",
       "    .dataframe tbody tr th:only-of-type {\n",
       "        vertical-align: middle;\n",
       "    }\n",
       "\n",
       "    .dataframe tbody tr th {\n",
       "        vertical-align: top;\n",
       "    }\n",
       "\n",
       "    .dataframe thead th {\n",
       "        text-align: right;\n",
       "    }\n",
       "</style>\n",
       "<table border=\"1\" class=\"dataframe\">\n",
       "  <thead>\n",
       "    <tr style=\"text-align: right;\">\n",
       "      <th></th>\n",
       "      <th>product_review</th>\n",
       "      <th>product_category</th>\n",
       "      <th>product_review_tokenized</th>\n",
       "      <th>clean_tokens</th>\n",
       "      <th>product_review_cleaned</th>\n",
       "      <th>POS_tokens</th>\n",
       "    </tr>\n",
       "  </thead>\n",
       "  <tbody>\n",
       "    <tr>\n",
       "      <th>0</th>\n",
       "      <td>i love love love this jumpsuit its fun flirty ...</td>\n",
       "      <td>Bottoms</td>\n",
       "      <td>[i, love, love, love, this, jumpsuit, its, fun...</td>\n",
       "      <td>[love, love, love, jumpsuit, fun, flirty, fabu...</td>\n",
       "      <td>love love love jumpsuit fun flirty fabulous ti...</td>\n",
       "      <td>[(i, NN), (love, VBP), (love, NN), (love, NN),...</td>\n",
       "    </tr>\n",
       "    <tr>\n",
       "      <th>1</th>\n",
       "      <td>beautifully made pants and on trend with the f...</td>\n",
       "      <td>Bottoms</td>\n",
       "      <td>[beautifully, made, pants, and, on, trend, wit...</td>\n",
       "      <td>[beautifully, made, pants, trend, flared, crop...</td>\n",
       "      <td>beautifully made pants trend flared crop much ...</td>\n",
       "      <td>[(beautifully, RB), (made, VBN), (pants, NNS),...</td>\n",
       "    </tr>\n",
       "    <tr>\n",
       "      <th>2</th>\n",
       "      <td>i never would have given these pants a second ...</td>\n",
       "      <td>Bottoms</td>\n",
       "      <td>[i, never, would, have, given, these, pants, a...</td>\n",
       "      <td>[never, would, given, pants, second, look, onl...</td>\n",
       "      <td>never would given pants second look online per...</td>\n",
       "      <td>[(i, NN), (never, RB), (would, MD), (have, VB)...</td>\n",
       "    </tr>\n",
       "    <tr>\n",
       "      <th>3</th>\n",
       "      <td>these pants are even better in person the only...</td>\n",
       "      <td>Bottoms</td>\n",
       "      <td>[these, pants, are, even, better, in, person, ...</td>\n",
       "      <td>[pants, even, better, person, downside, need, ...</td>\n",
       "      <td>pants even better person downside need dry cle...</td>\n",
       "      <td>[(these, DT), (pants, NNS), (are, VBP), (even,...</td>\n",
       "    </tr>\n",
       "    <tr>\n",
       "      <th>4</th>\n",
       "      <td>the silhouette and length of this skirt and le...</td>\n",
       "      <td>Bottoms</td>\n",
       "      <td>[the, silhouette, and, length, of, this, skirt...</td>\n",
       "      <td>[silhouette, length, skirt, length, flattering...</td>\n",
       "      <td>silhouette length skirt length flattering clas...</td>\n",
       "      <td>[(the, DT), (silhouette, NN), (and, CC), (leng...</td>\n",
       "    </tr>\n",
       "  </tbody>\n",
       "</table>\n",
       "</div>"
      ],
      "text/plain": [
       "                                      product_review product_category  \\\n",
       "0  i love love love this jumpsuit its fun flirty ...          Bottoms   \n",
       "1  beautifully made pants and on trend with the f...          Bottoms   \n",
       "2  i never would have given these pants a second ...          Bottoms   \n",
       "3  these pants are even better in person the only...          Bottoms   \n",
       "4  the silhouette and length of this skirt and le...          Bottoms   \n",
       "\n",
       "                            product_review_tokenized  \\\n",
       "0  [i, love, love, love, this, jumpsuit, its, fun...   \n",
       "1  [beautifully, made, pants, and, on, trend, wit...   \n",
       "2  [i, never, would, have, given, these, pants, a...   \n",
       "3  [these, pants, are, even, better, in, person, ...   \n",
       "4  [the, silhouette, and, length, of, this, skirt...   \n",
       "\n",
       "                                        clean_tokens  \\\n",
       "0  [love, love, love, jumpsuit, fun, flirty, fabu...   \n",
       "1  [beautifully, made, pants, trend, flared, crop...   \n",
       "2  [never, would, given, pants, second, look, onl...   \n",
       "3  [pants, even, better, person, downside, need, ...   \n",
       "4  [silhouette, length, skirt, length, flattering...   \n",
       "\n",
       "                              product_review_cleaned  \\\n",
       "0  love love love jumpsuit fun flirty fabulous ti...   \n",
       "1  beautifully made pants trend flared crop much ...   \n",
       "2  never would given pants second look online per...   \n",
       "3  pants even better person downside need dry cle...   \n",
       "4  silhouette length skirt length flattering clas...   \n",
       "\n",
       "                                          POS_tokens  \n",
       "0  [(i, NN), (love, VBP), (love, NN), (love, NN),...  \n",
       "1  [(beautifully, RB), (made, VBN), (pants, NNS),...  \n",
       "2  [(i, NN), (never, RB), (would, MD), (have, VB)...  \n",
       "3  [(these, DT), (pants, NNS), (are, VBP), (even,...  \n",
       "4  [(the, DT), (silhouette, NN), (and, CC), (leng...  "
      ]
     },
     "execution_count": 76,
     "metadata": {},
     "output_type": "execute_result"
    }
   ],
   "source": [
    "data['POS_tokens'] = data.product_review_tokenized.apply(nltk.pos_tag)\n",
    "data.head()"
   ]
  },
  {
   "cell_type": "markdown",
   "id": "3394e78b",
   "metadata": {},
   "source": [
    "Let's extract the adjectives used in each review"
   ]
  },
  {
   "cell_type": "markdown",
   "id": "db8e8adf",
   "metadata": {},
   "source": [
    "Let's combine all the `adjectives` for the `Tops`."
   ]
  },
  {
   "cell_type": "code",
   "execution_count": 77,
   "id": "273d5424",
   "metadata": {},
   "outputs": [
    {
     "data": {
      "text/html": [
       "<div>\n",
       "<style scoped>\n",
       "    .dataframe tbody tr th:only-of-type {\n",
       "        vertical-align: middle;\n",
       "    }\n",
       "\n",
       "    .dataframe tbody tr th {\n",
       "        vertical-align: top;\n",
       "    }\n",
       "\n",
       "    .dataframe thead th {\n",
       "        text-align: right;\n",
       "    }\n",
       "</style>\n",
       "<table border=\"1\" class=\"dataframe\">\n",
       "  <thead>\n",
       "    <tr style=\"text-align: right;\">\n",
       "      <th></th>\n",
       "      <th>product_review</th>\n",
       "      <th>product_category</th>\n",
       "      <th>product_review_tokenized</th>\n",
       "      <th>clean_tokens</th>\n",
       "      <th>product_review_cleaned</th>\n",
       "      <th>POS_tokens</th>\n",
       "      <th>adjectives</th>\n",
       "    </tr>\n",
       "  </thead>\n",
       "  <tbody>\n",
       "    <tr>\n",
       "      <th>0</th>\n",
       "      <td>i love love love this jumpsuit its fun flirty ...</td>\n",
       "      <td>Bottoms</td>\n",
       "      <td>[i, love, love, love, this, jumpsuit, its, fun...</td>\n",
       "      <td>[love, love, love, jumpsuit, fun, flirty, fabu...</td>\n",
       "      <td>love love love jumpsuit fun flirty fabulous ti...</td>\n",
       "      <td>[(i, NN), (love, VBP), (love, NN), (love, NN),...</td>\n",
       "      <td>[fabulous, i, great]</td>\n",
       "    </tr>\n",
       "    <tr>\n",
       "      <th>1</th>\n",
       "      <td>beautifully made pants and on trend with the f...</td>\n",
       "      <td>Bottoms</td>\n",
       "      <td>[beautifully, made, pants, and, on, trend, wit...</td>\n",
       "      <td>[beautifully, made, pants, trend, flared, crop...</td>\n",
       "      <td>beautifully made pants trend flared crop much ...</td>\n",
       "      <td>[(beautifully, RB), (made, VBN), (pants, NNS),...</td>\n",
       "      <td>[flared, much]</td>\n",
       "    </tr>\n",
       "    <tr>\n",
       "      <th>2</th>\n",
       "      <td>i never would have given these pants a second ...</td>\n",
       "      <td>Bottoms</td>\n",
       "      <td>[i, never, would, have, given, these, pants, a...</td>\n",
       "      <td>[never, would, given, pants, second, look, onl...</td>\n",
       "      <td>never would given pants second look online per...</td>\n",
       "      <td>[(i, NN), (never, RB), (would, MD), (have, VB)...</td>\n",
       "      <td>[second, much, cuter, right, small, loose, navy]</td>\n",
       "    </tr>\n",
       "    <tr>\n",
       "      <th>3</th>\n",
       "      <td>these pants are even better in person the only...</td>\n",
       "      <td>Bottoms</td>\n",
       "      <td>[these, pants, are, even, better, in, person, ...</td>\n",
       "      <td>[pants, even, better, person, downside, need, ...</td>\n",
       "      <td>pants even better person downside need dry cle...</td>\n",
       "      <td>[(these, DT), (pants, NNS), (are, VBP), (even,...</td>\n",
       "      <td>[only, dry]</td>\n",
       "    </tr>\n",
       "    <tr>\n",
       "      <th>4</th>\n",
       "      <td>the silhouette and length of this skirt and le...</td>\n",
       "      <td>Bottoms</td>\n",
       "      <td>[the, silhouette, and, length, of, this, skirt...</td>\n",
       "      <td>[silhouette, length, skirt, length, flattering...</td>\n",
       "      <td>silhouette length skirt length flattering clas...</td>\n",
       "      <td>[(the, DT), (silhouette, NN), (and, CC), (leng...</td>\n",
       "      <td>[classic, comfortable, favorite, different, hi...</td>\n",
       "    </tr>\n",
       "  </tbody>\n",
       "</table>\n",
       "</div>"
      ],
      "text/plain": [
       "                                      product_review product_category  \\\n",
       "0  i love love love this jumpsuit its fun flirty ...          Bottoms   \n",
       "1  beautifully made pants and on trend with the f...          Bottoms   \n",
       "2  i never would have given these pants a second ...          Bottoms   \n",
       "3  these pants are even better in person the only...          Bottoms   \n",
       "4  the silhouette and length of this skirt and le...          Bottoms   \n",
       "\n",
       "                            product_review_tokenized  \\\n",
       "0  [i, love, love, love, this, jumpsuit, its, fun...   \n",
       "1  [beautifully, made, pants, and, on, trend, wit...   \n",
       "2  [i, never, would, have, given, these, pants, a...   \n",
       "3  [these, pants, are, even, better, in, person, ...   \n",
       "4  [the, silhouette, and, length, of, this, skirt...   \n",
       "\n",
       "                                        clean_tokens  \\\n",
       "0  [love, love, love, jumpsuit, fun, flirty, fabu...   \n",
       "1  [beautifully, made, pants, trend, flared, crop...   \n",
       "2  [never, would, given, pants, second, look, onl...   \n",
       "3  [pants, even, better, person, downside, need, ...   \n",
       "4  [silhouette, length, skirt, length, flattering...   \n",
       "\n",
       "                              product_review_cleaned  \\\n",
       "0  love love love jumpsuit fun flirty fabulous ti...   \n",
       "1  beautifully made pants trend flared crop much ...   \n",
       "2  never would given pants second look online per...   \n",
       "3  pants even better person downside need dry cle...   \n",
       "4  silhouette length skirt length flattering clas...   \n",
       "\n",
       "                                          POS_tokens  \\\n",
       "0  [(i, NN), (love, VBP), (love, NN), (love, NN),...   \n",
       "1  [(beautifully, RB), (made, VBN), (pants, NNS),...   \n",
       "2  [(i, NN), (never, RB), (would, MD), (have, VB)...   \n",
       "3  [(these, DT), (pants, NNS), (are, VBP), (even,...   \n",
       "4  [(the, DT), (silhouette, NN), (and, CC), (leng...   \n",
       "\n",
       "                                          adjectives  \n",
       "0                               [fabulous, i, great]  \n",
       "1                                     [flared, much]  \n",
       "2   [second, much, cuter, right, small, loose, navy]  \n",
       "3                                        [only, dry]  \n",
       "4  [classic, comfortable, favorite, different, hi...  "
      ]
     },
     "execution_count": 77,
     "metadata": {},
     "output_type": "execute_result"
    }
   ],
   "source": [
    "def extract_adj(tokens):\n",
    "    adjectives = []\n",
    "    for x in tokens:\n",
    "        if x[1] in ['JJ', 'JJR', 'JJS']:\n",
    "            adjectives.append(x[0])\n",
    "    return adjectives\n",
    "\n",
    "data['adjectives'] = data.POS_tokens.apply(extract_adj)\n",
    "data.head()"
   ]
  },
  {
   "cell_type": "markdown",
   "id": "68cd6fb7",
   "metadata": {},
   "source": [
    "Let's visualize the adjectives using a wordcloud"
   ]
  },
  {
   "cell_type": "code",
   "execution_count": 78,
   "id": "88d5e70e-9e1b-415e-8d75-ae3254543f48",
   "metadata": {},
   "outputs": [
    {
     "data": {
      "image/png": "[encoded data removed]",
      "text/plain": [
       "<Figure size 640x480 with 1 Axes>"
      ]
     },
     "metadata": {},
     "output_type": "display_data"
    }
   ],
   "source": [
    "adj_tops = \"\"\n",
    "for x in data[data.product_category == 'Tops'].adjectives:\n",
    "    adj_tops += \" \".join(x) + \" \"\n",
    "    \n",
    "word_cloud = WordCloud(width = 800, height = 600, background_color = 'white').generate(adj_tops)\n",
    "plt.imshow(word_cloud)\n",
    "plt.axis('off')\n",
    "plt.show()"
   ]
  },
  {
   "cell_type": "markdown",
   "id": "e25e0267",
   "metadata": {},
   "source": [
    "<b>Exercise</b>: Write a python method that gets a product category name and combine the adjectives used in the reviews related to the input category and visualize them using a word cloud."
   ]
  },
  {
   "cell_type": "code",
   "execution_count": 79,
   "id": "b3be48db-75be-4412-a89a-9dac03d36b1c",
   "metadata": {},
   "outputs": [
    {
     "data": {
      "image/png": "[encoded data removed]",
      "text/plain": [
       "<Figure size 640x480 with 1 Axes>"
      ]
     },
     "metadata": {},
     "output_type": "display_data"
    }
   ],
   "source": [
    "def visualize_adjectives(category):\n",
    "    adjectives = \"\"\n",
    "    \n",
    "    for x in data[data.product_category == category].adjectives:\n",
    "        adj_bottoms += \" \".join(x) + \" \"\n",
    "        \n",
    "    word_cloud = WordCloud(width = 800, height = 600, background_color = 'white').generate(adj_tops)\n",
    "    plt.imshow(word_cloud)\n",
    "    plt.axis('off')\n",
    "    plt.show()\n",
    "\n",
    "visualize_adjectives(\"dresses\")"
   ]
  },
  {
   "cell_type": "markdown",
   "id": "050ef883",
   "metadata": {},
   "source": [
    "## Task 6 \n",
    "\n",
    "### Finding the sentiment of each review "
   ]
  },
  {
   "cell_type": "code",
   "execution_count": 80,
   "id": "6de0d760",
   "metadata": {},
   "outputs": [
    {
     "data": {
      "text/html": [
       "<div>\n",
       "<style scoped>\n",
       "    .dataframe tbody tr th:only-of-type {\n",
       "        vertical-align: middle;\n",
       "    }\n",
       "\n",
       "    .dataframe tbody tr th {\n",
       "        vertical-align: top;\n",
       "    }\n",
       "\n",
       "    .dataframe thead th {\n",
       "        text-align: right;\n",
       "    }\n",
       "</style>\n",
       "<table border=\"1\" class=\"dataframe\">\n",
       "  <thead>\n",
       "    <tr style=\"text-align: right;\">\n",
       "      <th></th>\n",
       "      <th>product_review</th>\n",
       "      <th>product_category</th>\n",
       "      <th>product_review_tokenized</th>\n",
       "      <th>clean_tokens</th>\n",
       "      <th>product_review_cleaned</th>\n",
       "      <th>POS_tokens</th>\n",
       "      <th>adjectives</th>\n",
       "    </tr>\n",
       "  </thead>\n",
       "  <tbody>\n",
       "    <tr>\n",
       "      <th>0</th>\n",
       "      <td>i love love love this jumpsuit its fun flirty ...</td>\n",
       "      <td>Bottoms</td>\n",
       "      <td>[i, love, love, love, this, jumpsuit, its, fun...</td>\n",
       "      <td>[love, love, love, jumpsuit, fun, flirty, fabu...</td>\n",
       "      <td>love love love jumpsuit fun flirty fabulous ti...</td>\n",
       "      <td>[(i, NN), (love, VBP), (love, NN), (love, NN),...</td>\n",
       "      <td>[fabulous, i, great]</td>\n",
       "    </tr>\n",
       "    <tr>\n",
       "      <th>1</th>\n",
       "      <td>beautifully made pants and on trend with the f...</td>\n",
       "      <td>Bottoms</td>\n",
       "      <td>[beautifully, made, pants, and, on, trend, wit...</td>\n",
       "      <td>[beautifully, made, pants, trend, flared, crop...</td>\n",
       "      <td>beautifully made pants trend flared crop much ...</td>\n",
       "      <td>[(beautifully, RB), (made, VBN), (pants, NNS),...</td>\n",
       "      <td>[flared, much]</td>\n",
       "    </tr>\n",
       "    <tr>\n",
       "      <th>2</th>\n",
       "      <td>i never would have given these pants a second ...</td>\n",
       "      <td>Bottoms</td>\n",
       "      <td>[i, never, would, have, given, these, pants, a...</td>\n",
       "      <td>[never, would, given, pants, second, look, onl...</td>\n",
       "      <td>never would given pants second look online per...</td>\n",
       "      <td>[(i, NN), (never, RB), (would, MD), (have, VB)...</td>\n",
       "      <td>[second, much, cuter, right, small, loose, navy]</td>\n",
       "    </tr>\n",
       "    <tr>\n",
       "      <th>3</th>\n",
       "      <td>these pants are even better in person the only...</td>\n",
       "      <td>Bottoms</td>\n",
       "      <td>[these, pants, are, even, better, in, person, ...</td>\n",
       "      <td>[pants, even, better, person, downside, need, ...</td>\n",
       "      <td>pants even better person downside need dry cle...</td>\n",
       "      <td>[(these, DT), (pants, NNS), (are, VBP), (even,...</td>\n",
       "      <td>[only, dry]</td>\n",
       "    </tr>\n",
       "    <tr>\n",
       "      <th>4</th>\n",
       "      <td>the silhouette and length of this skirt and le...</td>\n",
       "      <td>Bottoms</td>\n",
       "      <td>[the, silhouette, and, length, of, this, skirt...</td>\n",
       "      <td>[silhouette, length, skirt, length, flattering...</td>\n",
       "      <td>silhouette length skirt length flattering clas...</td>\n",
       "      <td>[(the, DT), (silhouette, NN), (and, CC), (leng...</td>\n",
       "      <td>[classic, comfortable, favorite, different, hi...</td>\n",
       "    </tr>\n",
       "  </tbody>\n",
       "</table>\n",
       "</div>"
      ],
      "text/plain": [
       "                                      product_review product_category  \\\n",
       "0  i love love love this jumpsuit its fun flirty ...          Bottoms   \n",
       "1  beautifully made pants and on trend with the f...          Bottoms   \n",
       "2  i never would have given these pants a second ...          Bottoms   \n",
       "3  these pants are even better in person the only...          Bottoms   \n",
       "4  the silhouette and length of this skirt and le...          Bottoms   \n",
       "\n",
       "                            product_review_tokenized  \\\n",
       "0  [i, love, love, love, this, jumpsuit, its, fun...   \n",
       "1  [beautifully, made, pants, and, on, trend, wit...   \n",
       "2  [i, never, would, have, given, these, pants, a...   \n",
       "3  [these, pants, are, even, better, in, person, ...   \n",
       "4  [the, silhouette, and, length, of, this, skirt...   \n",
       "\n",
       "                                        clean_tokens  \\\n",
       "0  [love, love, love, jumpsuit, fun, flirty, fabu...   \n",
       "1  [beautifully, made, pants, trend, flared, crop...   \n",
       "2  [never, would, given, pants, second, look, onl...   \n",
       "3  [pants, even, better, person, downside, need, ...   \n",
       "4  [silhouette, length, skirt, length, flattering...   \n",
       "\n",
       "                              product_review_cleaned  \\\n",
       "0  love love love jumpsuit fun flirty fabulous ti...   \n",
       "1  beautifully made pants trend flared crop much ...   \n",
       "2  never would given pants second look online per...   \n",
       "3  pants even better person downside need dry cle...   \n",
       "4  silhouette length skirt length flattering clas...   \n",
       "\n",
       "                                          POS_tokens  \\\n",
       "0  [(i, NN), (love, VBP), (love, NN), (love, NN),...   \n",
       "1  [(beautifully, RB), (made, VBN), (pants, NNS),...   \n",
       "2  [(i, NN), (never, RB), (would, MD), (have, VB)...   \n",
       "3  [(these, DT), (pants, NNS), (are, VBP), (even,...   \n",
       "4  [(the, DT), (silhouette, NN), (and, CC), (leng...   \n",
       "\n",
       "                                          adjectives  \n",
       "0                               [fabulous, i, great]  \n",
       "1                                     [flared, much]  \n",
       "2   [second, much, cuter, right, small, loose, navy]  \n",
       "3                                        [only, dry]  \n",
       "4  [classic, comfortable, favorite, different, hi...  "
      ]
     },
     "execution_count": 80,
     "metadata": {},
     "output_type": "execute_result"
    }
   ],
   "source": [
    "data.head()"
   ]
  },
  {
   "cell_type": "markdown",
   "id": "748173a9",
   "metadata": {},
   "source": [
    "Let's find the sentiment of the reviews"
   ]
  },
  {
   "cell_type": "code",
   "execution_count": 81,
   "id": "15bf5828",
   "metadata": {
    "scrolled": true
   },
   "outputs": [
    {
     "name": "stdout",
     "output_type": "stream",
     "text": [
      "love love love jumpsuit fun flirty fabulous time wear get nothing great compliments\n",
      "{'neg': 0.177, 'neu': 0.159, 'pos': 0.665, 'compound': 0.9464}\n"
     ]
    }
   ],
   "source": [
    "sent = SentimentIntensityAnalyzer()\n",
    "review = data.product_review_cleaned[0]\n",
    "print(review)\n",
    "\n",
    "scores = sent.polarity_scores(review)\n",
    "print(scores)"
   ]
  },
  {
   "cell_type": "markdown",
   "id": "d7245982",
   "metadata": {},
   "source": [
    "### Sentiment scores:\n",
    "\n",
    "- `pos`: The probability of `positive` sentiment\n",
    "- `neu`: The probability of `neutral` sentiment\n",
    "- `neg`: The probability of `negative` sentiment\n",
    "- `compound`: The normalized `compound` score that takes values from -1 to 1\n",
    "\n",
    "We can use the `compound` score to find the sentiment of each review.\n",
    "\n",
    "- if compound score>=0.05 then `positive` \n",
    "- if compound score between -0.05 and 0.05 then `neutral` \n",
    "- if compound score<=-0.05 then `negative` \n",
    "\n",
    "\n",
    "Now let's create a method to find the sentiment of a review using the compound score"
   ]
  },
  {
   "cell_type": "code",
   "execution_count": 82,
   "id": "463acbba",
   "metadata": {},
   "outputs": [],
   "source": [
    "def polarity_score(review):\n",
    "    # Initilizing the Sentiment Analyzer\n",
    "    sent = SentimentIntensityAnalyzer()\n",
    "   \n",
    "    # Extracting the sentiment polarity scores of a review\n",
    "    scores = sent.polarity_scores(review)\n",
    "    \n",
    "    # Getting the compound score\n",
    "    compound = scores['compound']\n",
    "    \n",
    "    if compound > 0.05:\n",
    "        return \"positive\"\n",
    "    elif compound < -0.5:\n",
    "        return \"negative\"\n",
    "    else:\n",
    "        return \"neutral\"\n",
    "\n"
   ]
  },
  {
   "cell_type": "markdown",
   "id": "f100afa5",
   "metadata": {},
   "source": [
    "Let's label all the reviews with sentiment"
   ]
  },
  {
   "cell_type": "code",
   "execution_count": 83,
   "id": "81b4ce23",
   "metadata": {
    "scrolled": true
   },
   "outputs": [
    {
     "data": {
      "text/html": [
       "<div>\n",
       "<style scoped>\n",
       "    .dataframe tbody tr th:only-of-type {\n",
       "        vertical-align: middle;\n",
       "    }\n",
       "\n",
       "    .dataframe tbody tr th {\n",
       "        vertical-align: top;\n",
       "    }\n",
       "\n",
       "    .dataframe thead th {\n",
       "        text-align: right;\n",
       "    }\n",
       "</style>\n",
       "<table border=\"1\" class=\"dataframe\">\n",
       "  <thead>\n",
       "    <tr style=\"text-align: right;\">\n",
       "      <th></th>\n",
       "      <th>product_review</th>\n",
       "      <th>product_category</th>\n",
       "      <th>product_review_tokenized</th>\n",
       "      <th>clean_tokens</th>\n",
       "      <th>product_review_cleaned</th>\n",
       "      <th>POS_tokens</th>\n",
       "      <th>adjectives</th>\n",
       "      <th>sentiment</th>\n",
       "    </tr>\n",
       "  </thead>\n",
       "  <tbody>\n",
       "    <tr>\n",
       "      <th>0</th>\n",
       "      <td>i love love love this jumpsuit its fun flirty ...</td>\n",
       "      <td>Bottoms</td>\n",
       "      <td>[i, love, love, love, this, jumpsuit, its, fun...</td>\n",
       "      <td>[love, love, love, jumpsuit, fun, flirty, fabu...</td>\n",
       "      <td>love love love jumpsuit fun flirty fabulous ti...</td>\n",
       "      <td>[(i, NN), (love, VBP), (love, NN), (love, NN),...</td>\n",
       "      <td>[fabulous, i, great]</td>\n",
       "      <td>positive</td>\n",
       "    </tr>\n",
       "    <tr>\n",
       "      <th>1</th>\n",
       "      <td>beautifully made pants and on trend with the f...</td>\n",
       "      <td>Bottoms</td>\n",
       "      <td>[beautifully, made, pants, and, on, trend, wit...</td>\n",
       "      <td>[beautifully, made, pants, trend, flared, crop...</td>\n",
       "      <td>beautifully made pants trend flared crop much ...</td>\n",
       "      <td>[(beautifully, RB), (made, VBN), (pants, NNS),...</td>\n",
       "      <td>[flared, much]</td>\n",
       "      <td>positive</td>\n",
       "    </tr>\n",
       "    <tr>\n",
       "      <th>2</th>\n",
       "      <td>i never would have given these pants a second ...</td>\n",
       "      <td>Bottoms</td>\n",
       "      <td>[i, never, would, have, given, these, pants, a...</td>\n",
       "      <td>[never, would, given, pants, second, look, onl...</td>\n",
       "      <td>never would given pants second look online per...</td>\n",
       "      <td>[(i, NN), (never, RB), (would, MD), (have, VB)...</td>\n",
       "      <td>[second, much, cuter, right, small, loose, navy]</td>\n",
       "      <td>positive</td>\n",
       "    </tr>\n",
       "    <tr>\n",
       "      <th>3</th>\n",
       "      <td>these pants are even better in person the only...</td>\n",
       "      <td>Bottoms</td>\n",
       "      <td>[these, pants, are, even, better, in, person, ...</td>\n",
       "      <td>[pants, even, better, person, downside, need, ...</td>\n",
       "      <td>pants even better person downside need dry cle...</td>\n",
       "      <td>[(these, DT), (pants, NNS), (are, VBP), (even,...</td>\n",
       "      <td>[only, dry]</td>\n",
       "      <td>positive</td>\n",
       "    </tr>\n",
       "    <tr>\n",
       "      <th>4</th>\n",
       "      <td>the silhouette and length of this skirt and le...</td>\n",
       "      <td>Bottoms</td>\n",
       "      <td>[the, silhouette, and, length, of, this, skirt...</td>\n",
       "      <td>[silhouette, length, skirt, length, flattering...</td>\n",
       "      <td>silhouette length skirt length flattering clas...</td>\n",
       "      <td>[(the, DT), (silhouette, NN), (and, CC), (leng...</td>\n",
       "      <td>[classic, comfortable, favorite, different, hi...</td>\n",
       "      <td>positive</td>\n",
       "    </tr>\n",
       "  </tbody>\n",
       "</table>\n",
       "</div>"
      ],
      "text/plain": [
       "                                      product_review product_category  \\\n",
       "0  i love love love this jumpsuit its fun flirty ...          Bottoms   \n",
       "1  beautifully made pants and on trend with the f...          Bottoms   \n",
       "2  i never would have given these pants a second ...          Bottoms   \n",
       "3  these pants are even better in person the only...          Bottoms   \n",
       "4  the silhouette and length of this skirt and le...          Bottoms   \n",
       "\n",
       "                            product_review_tokenized  \\\n",
       "0  [i, love, love, love, this, jumpsuit, its, fun...   \n",
       "1  [beautifully, made, pants, and, on, trend, wit...   \n",
       "2  [i, never, would, have, given, these, pants, a...   \n",
       "3  [these, pants, are, even, better, in, person, ...   \n",
       "4  [the, silhouette, and, length, of, this, skirt...   \n",
       "\n",
       "                                        clean_tokens  \\\n",
       "0  [love, love, love, jumpsuit, fun, flirty, fabu...   \n",
       "1  [beautifully, made, pants, trend, flared, crop...   \n",
       "2  [never, would, given, pants, second, look, onl...   \n",
       "3  [pants, even, better, person, downside, need, ...   \n",
       "4  [silhouette, length, skirt, length, flattering...   \n",
       "\n",
       "                              product_review_cleaned  \\\n",
       "0  love love love jumpsuit fun flirty fabulous ti...   \n",
       "1  beautifully made pants trend flared crop much ...   \n",
       "2  never would given pants second look online per...   \n",
       "3  pants even better person downside need dry cle...   \n",
       "4  silhouette length skirt length flattering clas...   \n",
       "\n",
       "                                          POS_tokens  \\\n",
       "0  [(i, NN), (love, VBP), (love, NN), (love, NN),...   \n",
       "1  [(beautifully, RB), (made, VBN), (pants, NNS),...   \n",
       "2  [(i, NN), (never, RB), (would, MD), (have, VB)...   \n",
       "3  [(these, DT), (pants, NNS), (are, VBP), (even,...   \n",
       "4  [(the, DT), (silhouette, NN), (and, CC), (leng...   \n",
       "\n",
       "                                          adjectives sentiment  \n",
       "0                               [fabulous, i, great]  positive  \n",
       "1                                     [flared, much]  positive  \n",
       "2   [second, much, cuter, right, small, loose, navy]  positive  \n",
       "3                                        [only, dry]  positive  \n",
       "4  [classic, comfortable, favorite, different, hi...  positive  "
      ]
     },
     "execution_count": 83,
     "metadata": {},
     "output_type": "execute_result"
    }
   ],
   "source": [
    "data['sentiment'] = data.product_review_cleaned.apply(polarity_score)\n",
    "data.head()"
   ]
  },
  {
   "cell_type": "code",
   "execution_count": 84,
   "id": "693a0d04",
   "metadata": {
    "scrolled": true
   },
   "outputs": [
    {
     "data": {
      "text/html": [
       "<div>\n",
       "<style scoped>\n",
       "    .dataframe tbody tr th:only-of-type {\n",
       "        vertical-align: middle;\n",
       "    }\n",
       "\n",
       "    .dataframe tbody tr th {\n",
       "        vertical-align: top;\n",
       "    }\n",
       "\n",
       "    .dataframe thead th {\n",
       "        text-align: right;\n",
       "    }\n",
       "</style>\n",
       "<table border=\"1\" class=\"dataframe\">\n",
       "  <thead>\n",
       "    <tr style=\"text-align: right;\">\n",
       "      <th></th>\n",
       "      <th>product_category</th>\n",
       "      <th>sentiment</th>\n",
       "      <th>counts</th>\n",
       "    </tr>\n",
       "  </thead>\n",
       "  <tbody>\n",
       "    <tr>\n",
       "      <th>0</th>\n",
       "      <td>Bottoms</td>\n",
       "      <td>neutral</td>\n",
       "      <td>6</td>\n",
       "    </tr>\n",
       "    <tr>\n",
       "      <th>1</th>\n",
       "      <td>Bottoms</td>\n",
       "      <td>positive</td>\n",
       "      <td>679</td>\n",
       "    </tr>\n",
       "    <tr>\n",
       "      <th>2</th>\n",
       "      <td>Dresses</td>\n",
       "      <td>negative</td>\n",
       "      <td>35</td>\n",
       "    </tr>\n",
       "    <tr>\n",
       "      <th>3</th>\n",
       "      <td>Dresses</td>\n",
       "      <td>neutral</td>\n",
       "      <td>76</td>\n",
       "    </tr>\n",
       "    <tr>\n",
       "      <th>4</th>\n",
       "      <td>Dresses</td>\n",
       "      <td>positive</td>\n",
       "      <td>570</td>\n",
       "    </tr>\n",
       "    <tr>\n",
       "      <th>5</th>\n",
       "      <td>Intimate</td>\n",
       "      <td>negative</td>\n",
       "      <td>3</td>\n",
       "    </tr>\n",
       "    <tr>\n",
       "      <th>6</th>\n",
       "      <td>Intimate</td>\n",
       "      <td>neutral</td>\n",
       "      <td>33</td>\n",
       "    </tr>\n",
       "    <tr>\n",
       "      <th>7</th>\n",
       "      <td>Intimate</td>\n",
       "      <td>positive</td>\n",
       "      <td>614</td>\n",
       "    </tr>\n",
       "    <tr>\n",
       "      <th>8</th>\n",
       "      <td>Jackets</td>\n",
       "      <td>negative</td>\n",
       "      <td>2</td>\n",
       "    </tr>\n",
       "    <tr>\n",
       "      <th>9</th>\n",
       "      <td>Jackets</td>\n",
       "      <td>neutral</td>\n",
       "      <td>8</td>\n",
       "    </tr>\n",
       "    <tr>\n",
       "      <th>10</th>\n",
       "      <td>Jackets</td>\n",
       "      <td>positive</td>\n",
       "      <td>670</td>\n",
       "    </tr>\n",
       "    <tr>\n",
       "      <th>11</th>\n",
       "      <td>Tops</td>\n",
       "      <td>negative</td>\n",
       "      <td>1</td>\n",
       "    </tr>\n",
       "    <tr>\n",
       "      <th>12</th>\n",
       "      <td>Tops</td>\n",
       "      <td>neutral</td>\n",
       "      <td>4</td>\n",
       "    </tr>\n",
       "    <tr>\n",
       "      <th>13</th>\n",
       "      <td>Tops</td>\n",
       "      <td>positive</td>\n",
       "      <td>675</td>\n",
       "    </tr>\n",
       "  </tbody>\n",
       "</table>\n",
       "</div>"
      ],
      "text/plain": [
       "   product_category sentiment  counts\n",
       "0           Bottoms   neutral       6\n",
       "1           Bottoms  positive     679\n",
       "2           Dresses  negative      35\n",
       "3           Dresses   neutral      76\n",
       "4           Dresses  positive     570\n",
       "5          Intimate  negative       3\n",
       "6          Intimate   neutral      33\n",
       "7          Intimate  positive     614\n",
       "8           Jackets  negative       2\n",
       "9           Jackets   neutral       8\n",
       "10          Jackets  positive     670\n",
       "11             Tops  negative       1\n",
       "12             Tops   neutral       4\n",
       "13             Tops  positive     675"
      ]
     },
     "execution_count": 84,
     "metadata": {},
     "output_type": "execute_result"
    }
   ],
   "source": [
    "df = data.groupby(['product_category', 'sentiment']).size().reset_index(name = 'counts')\n",
    "df"
   ]
  },
  {
   "cell_type": "code",
   "execution_count": 85,
   "id": "2288d43f",
   "metadata": {},
   "outputs": [
    {
     "data": {
      "application/vnd.plotly.v1+json": {
       "config": {
        "plotlyServerURL": "https://plot.ly"
       },
       "data": [
        {
         "alignmentgroup": "True",
         "hovertemplate": "sentiment=neutral<br>product_category=%{x}<br>counts=%{y}<extra></extra>",
         "legendgroup": "neutral",
         "marker": {
          "color": "#636efa",
          "pattern": {
           "shape": ""
          }
         },
         "name": "neutral",
         "offsetgroup": "neutral",
         "orientation": "v",
         "showlegend": true,
         "textposition": "auto",
         "type": "bar",
         "x": [
          "Bottoms",
          "Dresses",
          "Intimate",
          "Jackets",
          "Tops"
         ],
         "xaxis": "x",
         "y": [
          6,
          76,
          33,
          8,
          4
         ],
         "yaxis": "y"
        },
        {
         "alignmentgroup": "True",
         "hovertemplate": "sentiment=positive<br>product_category=%{x}<br>counts=%{y}<extra></extra>",
         "legendgroup": "positive",
         "marker": {
          "color": "#EF553B",
          "pattern": {
           "shape": ""
          }
         },
         "name": "positive",
         "offsetgroup": "positive",
         "orientation": "v",
         "showlegend": true,
         "textposition": "auto",
         "type": "bar",
         "x": [
          "Bottoms",
          "Dresses",
          "Intimate",
          "Jackets",
          "Tops"
         ],
         "xaxis": "x",
         "y": [
          679,
          570,
          614,
          670,
          675
         ],
         "yaxis": "y"
        },
        {
         "alignmentgroup": "True",
         "hovertemplate": "sentiment=negative<br>product_category=%{x}<br>counts=%{y}<extra></extra>",
         "legendgroup": "negative",
         "marker": {
          "color": "#00cc96",
          "pattern": {
           "shape": ""
          }
         },
         "name": "negative",
         "offsetgroup": "negative",
         "orientation": "v",
         "showlegend": true,
         "textposition": "auto",
         "type": "bar",
         "x": [
          "Dresses",
          "Intimate",
          "Jackets",
          "Tops"
         ],
         "xaxis": "x",
         "y": [
          35,
          3,
          2,
          1
         ],
         "yaxis": "y"
        }
       ],
       "layout": {
        "autosize": true,
        "barmode": "group",
        "legend": {
         "title": {
          "text": "sentiment"
         },
         "tracegroupgap": 0
        },
        "margin": {
         "t": 60
        },
        "template": {
         "data": {
          "bar": [
           {
            "error_x": {
             "color": "#2a3f5f"
            },
            "error_y": {
             "color": "#2a3f5f"
            },
            "marker": {
             "line": {
              "color": "#E5ECF6",
              "width": 0.5
             },
             "pattern": {
              "fillmode": "overlay",
              "size": 10,
              "solidity": 0.2
             }
            },
            "type": "bar"
           }
          ],
          "barpolar": [
           {
            "marker": {
             "line": {
              "color": "#E5ECF6",
              "width": 0.5
             },
             "pattern": {
              "fillmode": "overlay",
              "size": 10,
              "solidity": 0.2
             }
            },
            "type": "barpolar"
           }
          ],
          "carpet": [
           {
            "aaxis": {
             "endlinecolor": "#2a3f5f",
             "gridcolor": "white",
             "linecolor": "white",
             "minorgridcolor": "white",
             "startlinecolor": "#2a3f5f"
            },
            "baxis": {
             "endlinecolor": "#2a3f5f",
             "gridcolor": "white",
             "linecolor": "white",
             "minorgridcolor": "white",
             "startlinecolor": "#2a3f5f"
            },
            "type": "carpet"
           }
          ],
          "choropleth": [
           {
            "colorbar": {
             "outlinewidth": 0,
             "ticks": ""
            },
            "type": "choropleth"
           }
          ],
          "contour": [
           {
            "colorbar": {
             "outlinewidth": 0,
             "ticks": ""
            },
            "colorscale": [
             [
              0,
              "#0d0887"
             ],
             [
              0.1111111111111111,
              "#46039f"
             ],
             [
              0.2222222222222222,
              "#7201a8"
             ],
             [
              0.3333333333333333,
              "#9c179e"
             ],
             [
              0.4444444444444444,
              "#bd3786"
             ],
             [
              0.5555555555555556,
              "#d8576b"
             ],
             [
              0.6666666666666666,
              "#ed7953"
             ],
             [
              0.7777777777777778,
              "#fb9f3a"
             ],
             [
              0.8888888888888888,
              "#fdca26"
             ],
             [
              1,
              "#f0f921"
             ]
            ],
            "type": "contour"
           }
          ],
          "contourcarpet": [
           {
            "colorbar": {
             "outlinewidth": 0,
             "ticks": ""
            },
            "type": "contourcarpet"
           }
          ],
          "heatmap": [
           {
            "colorbar": {
             "outlinewidth": 0,
             "ticks": ""
            },
            "colorscale": [
             [
              0,
              "#0d0887"
             ],
             [
              0.1111111111111111,
              "#46039f"
             ],
             [
              0.2222222222222222,
              "#7201a8"
             ],
             [
              0.3333333333333333,
              "#9c179e"
             ],
             [
              0.4444444444444444,
              "#bd3786"
             ],
             [
              0.5555555555555556,
              "#d8576b"
             ],
             [
              0.6666666666666666,
              "#ed7953"
             ],
             [
              0.7777777777777778,
              "#fb9f3a"
             ],
             [
              0.8888888888888888,
              "#fdca26"
             ],
             [
              1,
              "#f0f921"
             ]
            ],
            "type": "heatmap"
           }
          ],
          "heatmapgl": [
           {
            "colorbar": {
             "outlinewidth": 0,
             "ticks": ""
            },
            "colorscale": [
             [
              0,
              "#0d0887"
             ],
             [
              0.1111111111111111,
              "#46039f"
             ],
             [
              0.2222222222222222,
              "#7201a8"
             ],
             [
              0.3333333333333333,
              "#9c179e"
             ],
             [
              0.4444444444444444,
              "#bd3786"
             ],
             [
              0.5555555555555556,
              "#d8576b"
             ],
             [
              0.6666666666666666,
              "#ed7953"
             ],
             [
              0.7777777777777778,
              "#fb9f3a"
             ],
             [
              0.8888888888888888,
              "#fdca26"
             ],
             [
              1,
              "#f0f921"
             ]
            ],
            "type": "heatmapgl"
           }
          ],
          "histogram": [
           {
            "marker": {
             "pattern": {
              "fillmode": "overlay",
              "size": 10,
              "solidity": 0.2
             }
            },
            "type": "histogram"
           }
          ],
          "histogram2d": [
           {
            "colorbar": {
             "outlinewidth": 0,
             "ticks": ""
            },
            "colorscale": [
             [
              0,
              "#0d0887"
             ],
             [
              0.1111111111111111,
              "#46039f"
             ],
             [
              0.2222222222222222,
              "#7201a8"
             ],
             [
              0.3333333333333333,
              "#9c179e"
             ],
             [
              0.4444444444444444,
              "#bd3786"
             ],
             [
              0.5555555555555556,
              "#d8576b"
             ],
             [
              0.6666666666666666,
              "#ed7953"
             ],
             [
              0.7777777777777778,
              "#fb9f3a"
             ],
             [
              0.8888888888888888,
              "#fdca26"
             ],
             [
              1,
              "#f0f921"
             ]
            ],
            "type": "histogram2d"
           }
          ],
          "histogram2dcontour": [
           {
            "colorbar": {
             "outlinewidth": 0,
             "ticks": ""
            },
            "colorscale": [
             [
              0,
              "#0d0887"
             ],
             [
              0.1111111111111111,
              "#46039f"
             ],
             [
              0.2222222222222222,
              "#7201a8"
             ],
             [
              0.3333333333333333,
              "#9c179e"
             ],
             [
              0.4444444444444444,
              "#bd3786"
             ],
             [
              0.5555555555555556,
              "#d8576b"
             ],
             [
              0.6666666666666666,
              "#ed7953"
             ],
             [
              0.7777777777777778,
              "#fb9f3a"
             ],
             [
              0.8888888888888888,
              "#fdca26"
             ],
             [
              1,
              "#f0f921"
             ]
            ],
            "type": "histogram2dcontour"
           }
          ],
          "mesh3d": [
           {
            "colorbar": {
             "outlinewidth": 0,
             "ticks": ""
            },
            "type": "mesh3d"
           }
          ],
          "parcoords": [
           {
            "line": {
             "colorbar": {
              "outlinewidth": 0,
              "ticks": ""
             }
            },
            "type": "parcoords"
           }
          ],
          "pie": [
           {
            "automargin": true,
            "type": "pie"
           }
          ],
          "scatter": [
           {
            "fillpattern": {
             "fillmode": "overlay",
             "size": 10,
             "solidity": 0.2
            },
            "type": "scatter"
           }
          ],
          "scatter3d": [
           {
            "line": {
             "colorbar": {
              "outlinewidth": 0,
              "ticks": ""
             }
            },
            "marker": {
             "colorbar": {
              "outlinewidth": 0,
              "ticks": ""
             }
            },
            "type": "scatter3d"
           }
          ],
          "scattercarpet": [
           {
            "marker": {
             "colorbar": {
              "outlinewidth": 0,
              "ticks": ""
             }
            },
            "type": "scattercarpet"
           }
          ],
          "scattergeo": [
           {
            "marker": {
             "colorbar": {
              "outlinewidth": 0,
              "ticks": ""
             }
            },
            "type": "scattergeo"
           }
          ],
          "scattergl": [
           {
            "marker": {
             "colorbar": {
              "outlinewidth": 0,
              "ticks": ""
             }
            },
            "type": "scattergl"
           }
          ],
          "scattermapbox": [
           {
            "marker": {
             "colorbar": {
              "outlinewidth": 0,
              "ticks": ""
             }
            },
            "type": "scattermapbox"
           }
          ],
          "scatterpolar": [
           {
            "marker": {
             "colorbar": {
              "outlinewidth": 0,
              "ticks": ""
             }
            },
            "type": "scatterpolar"
           }
          ],
          "scatterpolargl": [
           {
            "marker": {
             "colorbar": {
              "outlinewidth": 0,
              "ticks": ""
             }
            },
            "type": "scatterpolargl"
           }
          ],
          "scatterternary": [
           {
            "marker": {
             "colorbar": {
              "outlinewidth": 0,
              "ticks": ""
             }
            },
            "type": "scatterternary"
           }
          ],
          "surface": [
           {
            "colorbar": {
             "outlinewidth": 0,
             "ticks": ""
            },
            "colorscale": [
             [
              0,
              "#0d0887"
             ],
             [
              0.1111111111111111,
              "#46039f"
             ],
             [
              0.2222222222222222,
              "#7201a8"
             ],
             [
              0.3333333333333333,
              "#9c179e"
             ],
             [
              0.4444444444444444,
              "#bd3786"
             ],
             [
              0.5555555555555556,
              "#d8576b"
             ],
             [
              0.6666666666666666,
              "#ed7953"
             ],
             [
              0.7777777777777778,
              "#fb9f3a"
             ],
             [
              0.8888888888888888,
              "#fdca26"
             ],
             [
              1,
              "#f0f921"
             ]
            ],
            "type": "surface"
           }
          ],
          "table": [
           {
            "cells": {
             "fill": {
              "color": "#EBF0F8"
             },
             "line": {
              "color": "white"
             }
            },
            "header": {
             "fill": {
              "color": "#C8D4E3"
             },
             "line": {
              "color": "white"
             }
            },
            "type": "table"
           }
          ]
         },
         "layout": {
          "annotationdefaults": {
           "arrowcolor": "#2a3f5f",
           "arrowhead": 0,
           "arrowwidth": 1
          },
          "autotypenumbers": "strict",
          "coloraxis": {
           "colorbar": {
            "outlinewidth": 0,
            "ticks": ""
           }
          },
          "colorscale": {
           "diverging": [
            [
             0,
             "#8e0152"
            ],
            [
             0.1,
             "#c51b7d"
            ],
            [
             0.2,
             "#de77ae"
            ],
            [
             0.3,
             "#f1b6da"
            ],
            [
             0.4,
             "#fde0ef"
            ],
            [
             0.5,
             "#f7f7f7"
            ],
            [
             0.6,
             "#e6f5d0"
            ],
            [
             0.7,
             "#b8e186"
            ],
            [
             0.8,
             "#7fbc41"
            ],
            [
             0.9,
             "#4d9221"
            ],
            [
             1,
             "#276419"
            ]
           ],
           "sequential": [
            [
             0,
             "#0d0887"
            ],
            [
             0.1111111111111111,
             "#46039f"
            ],
            [
             0.2222222222222222,
             "#7201a8"
            ],
            [
             0.3333333333333333,
             "#9c179e"
            ],
            [
             0.4444444444444444,
             "#bd3786"
            ],
            [
             0.5555555555555556,
             "#d8576b"
            ],
            [
             0.6666666666666666,
             "#ed7953"
            ],
            [
             0.7777777777777778,
             "#fb9f3a"
            ],
            [
             0.8888888888888888,
             "#fdca26"
            ],
            [
             1,
             "#f0f921"
            ]
           ],
           "sequentialminus": [
            [
             0,
             "#0d0887"
            ],
            [
             0.1111111111111111,
             "#46039f"
            ],
            [
             0.2222222222222222,
             "#7201a8"
            ],
            [
             0.3333333333333333,
             "#9c179e"
            ],
            [
             0.4444444444444444,
             "#bd3786"
            ],
            [
             0.5555555555555556,
             "#d8576b"
            ],
            [
             0.6666666666666666,
             "#ed7953"
            ],
            [
             0.7777777777777778,
             "#fb9f3a"
            ],
            [
             0.8888888888888888,
             "#fdca26"
            ],
            [
             1,
             "#f0f921"
            ]
           ]
          },
          "colorway": [
           "#636efa",
           "#EF553B",
           "#00cc96",
           "#ab63fa",
           "#FFA15A",
           "#19d3f3",
           "#FF6692",
           "#B6E880",
           "#FF97FF",
           "#FECB52"
          ],
          "font": {
           "color": "#2a3f5f"
          },
          "geo": {
           "bgcolor": "white",
           "lakecolor": "white",
           "landcolor": "#E5ECF6",
           "showlakes": true,
           "showland": true,
           "subunitcolor": "white"
          },
          "hoverlabel": {
           "align": "left"
          },
          "hovermode": "closest",
          "mapbox": {
           "style": "light"
          },
          "paper_bgcolor": "white",
          "plot_bgcolor": "#E5ECF6",
          "polar": {
           "angularaxis": {
            "gridcolor": "white",
            "linecolor": "white",
            "ticks": ""
           },
           "bgcolor": "#E5ECF6",
           "radialaxis": {
            "gridcolor": "white",
            "linecolor": "white",
            "ticks": ""
           }
          },
          "scene": {
           "xaxis": {
            "backgroundcolor": "#E5ECF6",
            "gridcolor": "white",
            "gridwidth": 2,
            "linecolor": "white",
            "showbackground": true,
            "ticks": "",
            "zerolinecolor": "white"
           },
           "yaxis": {
            "backgroundcolor": "#E5ECF6",
            "gridcolor": "white",
            "gridwidth": 2,
            "linecolor": "white",
            "showbackground": true,
            "ticks": "",
            "zerolinecolor": "white"
           },
           "zaxis": {
            "backgroundcolor": "#E5ECF6",
            "gridcolor": "white",
            "gridwidth": 2,
            "linecolor": "white",
            "showbackground": true,
            "ticks": "",
            "zerolinecolor": "white"
           }
          },
          "shapedefaults": {
           "line": {
            "color": "#2a3f5f"
           }
          },
          "ternary": {
           "aaxis": {
            "gridcolor": "white",
            "linecolor": "white",
            "ticks": ""
           },
           "baxis": {
            "gridcolor": "white",
            "linecolor": "white",
            "ticks": ""
           },
           "bgcolor": "#E5ECF6",
           "caxis": {
            "gridcolor": "white",
            "linecolor": "white",
            "ticks": ""
           }
          },
          "title": {
           "x": 0.05
          },
          "xaxis": {
           "automargin": true,
           "gridcolor": "white",
           "linecolor": "white",
           "ticks": "",
           "title": {
            "standoff": 15
           },
           "zerolinecolor": "white",
           "zerolinewidth": 2
          },
          "yaxis": {
           "automargin": true,
           "gridcolor": "white",
           "linecolor": "white",
           "ticks": "",
           "title": {
            "standoff": 15
           },
           "zerolinecolor": "white",
           "zerolinewidth": 2
          }
         }
        },
        "xaxis": {
         "anchor": "y",
         "autorange": true,
         "domain": [
          0,
          1
         ],
         "range": [
          -0.5,
          4.5
         ],
         "title": {
          "text": "product_category"
         },
         "type": "category"
        },
        "yaxis": {
         "anchor": "x",
         "autorange": true,
         "domain": [
          0,
          1
         ],
         "range": [
          0,
          714.7368421052631
         ],
         "title": {
          "text": "counts"
         },
         "type": "linear"
        }
       }
      },
      "image/png": "[encoded data removed]",
      "text/html": [
       "<div>                            <div id=\"1d786835-c83e-4e5b-8667-35b130a0af7b\" class=\"plotly-graph-div\" style=\"height:525px; width:100%;\"></div>            <script type=\"text/javascript\">                require([\"plotly\"], function(Plotly) {                    window.PLOTLYENV=window.PLOTLYENV || {};                                    if (document.getElementById(\"1d786835-c83e-4e5b-8667-35b130a0af7b\")) {                    Plotly.newPlot(                        \"1d786835-c83e-4e5b-8667-35b130a0af7b\",                        [{\"alignmentgroup\":\"True\",\"hovertemplate\":\"sentiment=neutral\\u003cbr\\u003eproduct_category=%{x}\\u003cbr\\u003ecounts=%{y}\\u003cextra\\u003e\\u003c\\u002fextra\\u003e\",\"legendgroup\":\"neutral\",\"marker\":{\"color\":\"#636efa\",\"pattern\":{\"shape\":\"\"}},\"name\":\"neutral\",\"offsetgroup\":\"neutral\",\"orientation\":\"v\",\"showlegend\":true,\"textposition\":\"auto\",\"x\":[\"Bottoms\",\"Dresses\",\"Intimate\",\"Jackets\",\"Tops\"],\"xaxis\":\"x\",\"y\":[6,76,33,8,4],\"yaxis\":\"y\",\"type\":\"bar\"},{\"alignmentgroup\":\"True\",\"hovertemplate\":\"sentiment=positive\\u003cbr\\u003eproduct_category=%{x}\\u003cbr\\u003ecounts=%{y}\\u003cextra\\u003e\\u003c\\u002fextra\\u003e\",\"legendgroup\":\"positive\",\"marker\":{\"color\":\"#EF553B\",\"pattern\":{\"shape\":\"\"}},\"name\":\"positive\",\"offsetgroup\":\"positive\",\"orientation\":\"v\",\"showlegend\":true,\"textposition\":\"auto\",\"x\":[\"Bottoms\",\"Dresses\",\"Intimate\",\"Jackets\",\"Tops\"],\"xaxis\":\"x\",\"y\":[679,570,614,670,675],\"yaxis\":\"y\",\"type\":\"bar\"},{\"alignmentgroup\":\"True\",\"hovertemplate\":\"sentiment=negative\\u003cbr\\u003eproduct_category=%{x}\\u003cbr\\u003ecounts=%{y}\\u003cextra\\u003e\\u003c\\u002fextra\\u003e\",\"legendgroup\":\"negative\",\"marker\":{\"color\":\"#00cc96\",\"pattern\":{\"shape\":\"\"}},\"name\":\"negative\",\"offsetgroup\":\"negative\",\"orientation\":\"v\",\"showlegend\":true,\"textposition\":\"auto\",\"x\":[\"Dresses\",\"Intimate\",\"Jackets\",\"Tops\"],\"xaxis\":\"x\",\"y\":[35,3,2,1],\"yaxis\":\"y\",\"type\":\"bar\"}],                        {\"template\":{\"data\":{\"histogram2dcontour\":[{\"type\":\"histogram2dcontour\",\"colorbar\":{\"outlinewidth\":0,\"ticks\":\"\"},\"colorscale\":[[0.0,\"#0d0887\"],[0.1111111111111111,\"#46039f\"],[0.2222222222222222,\"#7201a8\"],[0.3333333333333333,\"#9c179e\"],[0.4444444444444444,\"#bd3786\"],[0.5555555555555556,\"#d8576b\"],[0.6666666666666666,\"#ed7953\"],[0.7777777777777778,\"#fb9f3a\"],[0.8888888888888888,\"#fdca26\"],[1.0,\"#f0f921\"]]}],\"choropleth\":[{\"type\":\"choropleth\",\"colorbar\":{\"outlinewidth\":0,\"ticks\":\"\"}}],\"histogram2d\":[{\"type\":\"histogram2d\",\"colorbar\":{\"outlinewidth\":0,\"ticks\":\"\"},\"colorscale\":[[0.0,\"#0d0887\"],[0.1111111111111111,\"#46039f\"],[0.2222222222222222,\"#7201a8\"],[0.3333333333333333,\"#9c179e\"],[0.4444444444444444,\"#bd3786\"],[0.5555555555555556,\"#d8576b\"],[0.6666666666666666,\"#ed7953\"],[0.7777777777777778,\"#fb9f3a\"],[0.8888888888888888,\"#fdca26\"],[1.0,\"#f0f921\"]]}],\"heatmap\":[{\"type\":\"heatmap\",\"colorbar\":{\"outlinewidth\":0,\"ticks\":\"\"},\"colorscale\":[[0.0,\"#0d0887\"],[0.1111111111111111,\"#46039f\"],[0.2222222222222222,\"#7201a8\"],[0.3333333333333333,\"#9c179e\"],[0.4444444444444444,\"#bd3786\"],[0.5555555555555556,\"#d8576b\"],[0.6666666666666666,\"#ed7953\"],[0.7777777777777778,\"#fb9f3a\"],[0.8888888888888888,\"#fdca26\"],[1.0,\"#f0f921\"]]}],\"heatmapgl\":[{\"type\":\"heatmapgl\",\"colorbar\":{\"outlinewidth\":0,\"ticks\":\"\"},\"colorscale\":[[0.0,\"#0d0887\"],[0.1111111111111111,\"#46039f\"],[0.2222222222222222,\"#7201a8\"],[0.3333333333333333,\"#9c179e\"],[0.4444444444444444,\"#bd3786\"],[0.5555555555555556,\"#d8576b\"],[0.6666666666666666,\"#ed7953\"],[0.7777777777777778,\"#fb9f3a\"],[0.8888888888888888,\"#fdca26\"],[1.0,\"#f0f921\"]]}],\"contourcarpet\":[{\"type\":\"contourcarpet\",\"colorbar\":{\"outlinewidth\":0,\"ticks\":\"\"}}],\"contour\":[{\"type\":\"contour\",\"colorbar\":{\"outlinewidth\":0,\"ticks\":\"\"},\"colorscale\":[[0.0,\"#0d0887\"],[0.1111111111111111,\"#46039f\"],[0.2222222222222222,\"#7201a8\"],[0.3333333333333333,\"#9c179e\"],[0.4444444444444444,\"#bd3786\"],[0.5555555555555556,\"#d8576b\"],[0.6666666666666666,\"#ed7953\"],[0.7777777777777778,\"#fb9f3a\"],[0.8888888888888888,\"#fdca26\"],[1.0,\"#f0f921\"]]}],\"surface\":[{\"type\":\"surface\",\"colorbar\":{\"outlinewidth\":0,\"ticks\":\"\"},\"colorscale\":[[0.0,\"#0d0887\"],[0.1111111111111111,\"#46039f\"],[0.2222222222222222,\"#7201a8\"],[0.3333333333333333,\"#9c179e\"],[0.4444444444444444,\"#bd3786\"],[0.5555555555555556,\"#d8576b\"],[0.6666666666666666,\"#ed7953\"],[0.7777777777777778,\"#fb9f3a\"],[0.8888888888888888,\"#fdca26\"],[1.0,\"#f0f921\"]]}],\"mesh3d\":[{\"type\":\"mesh3d\",\"colorbar\":{\"outlinewidth\":0,\"ticks\":\"\"}}],\"scatter\":[{\"fillpattern\":{\"fillmode\":\"overlay\",\"size\":10,\"solidity\":0.2},\"type\":\"scatter\"}],\"parcoords\":[{\"type\":\"parcoords\",\"line\":{\"colorbar\":{\"outlinewidth\":0,\"ticks\":\"\"}}}],\"scatterpolargl\":[{\"type\":\"scatterpolargl\",\"marker\":{\"colorbar\":{\"outlinewidth\":0,\"ticks\":\"\"}}}],\"bar\":[{\"error_x\":{\"color\":\"#2a3f5f\"},\"error_y\":{\"color\":\"#2a3f5f\"},\"marker\":{\"line\":{\"color\":\"#E5ECF6\",\"width\":0.5},\"pattern\":{\"fillmode\":\"overlay\",\"size\":10,\"solidity\":0.2}},\"type\":\"bar\"}],\"scattergeo\":[{\"type\":\"scattergeo\",\"marker\":{\"colorbar\":{\"outlinewidth\":0,\"ticks\":\"\"}}}],\"scatterpolar\":[{\"type\":\"scatterpolar\",\"marker\":{\"colorbar\":{\"outlinewidth\":0,\"ticks\":\"\"}}}],\"histogram\":[{\"marker\":{\"pattern\":{\"fillmode\":\"overlay\",\"size\":10,\"solidity\":0.2}},\"type\":\"histogram\"}],\"scattergl\":[{\"type\":\"scattergl\",\"marker\":{\"colorbar\":{\"outlinewidth\":0,\"ticks\":\"\"}}}],\"scatter3d\":[{\"type\":\"scatter3d\",\"line\":{\"colorbar\":{\"outlinewidth\":0,\"ticks\":\"\"}},\"marker\":{\"colorbar\":{\"outlinewidth\":0,\"ticks\":\"\"}}}],\"scattermapbox\":[{\"type\":\"scattermapbox\",\"marker\":{\"colorbar\":{\"outlinewidth\":0,\"ticks\":\"\"}}}],\"scatterternary\":[{\"type\":\"scatterternary\",\"marker\":{\"colorbar\":{\"outlinewidth\":0,\"ticks\":\"\"}}}],\"scattercarpet\":[{\"type\":\"scattercarpet\",\"marker\":{\"colorbar\":{\"outlinewidth\":0,\"ticks\":\"\"}}}],\"carpet\":[{\"aaxis\":{\"endlinecolor\":\"#2a3f5f\",\"gridcolor\":\"white\",\"linecolor\":\"white\",\"minorgridcolor\":\"white\",\"startlinecolor\":\"#2a3f5f\"},\"baxis\":{\"endlinecolor\":\"#2a3f5f\",\"gridcolor\":\"white\",\"linecolor\":\"white\",\"minorgridcolor\":\"white\",\"startlinecolor\":\"#2a3f5f\"},\"type\":\"carpet\"}],\"table\":[{\"cells\":{\"fill\":{\"color\":\"#EBF0F8\"},\"line\":{\"color\":\"white\"}},\"header\":{\"fill\":{\"color\":\"#C8D4E3\"},\"line\":{\"color\":\"white\"}},\"type\":\"table\"}],\"barpolar\":[{\"marker\":{\"line\":{\"color\":\"#E5ECF6\",\"width\":0.5},\"pattern\":{\"fillmode\":\"overlay\",\"size\":10,\"solidity\":0.2}},\"type\":\"barpolar\"}],\"pie\":[{\"automargin\":true,\"type\":\"pie\"}]},\"layout\":{\"autotypenumbers\":\"strict\",\"colorway\":[\"#636efa\",\"#EF553B\",\"#00cc96\",\"#ab63fa\",\"#FFA15A\",\"#19d3f3\",\"#FF6692\",\"#B6E880\",\"#FF97FF\",\"#FECB52\"],\"font\":{\"color\":\"#2a3f5f\"},\"hovermode\":\"closest\",\"hoverlabel\":{\"align\":\"left\"},\"paper_bgcolor\":\"white\",\"plot_bgcolor\":\"#E5ECF6\",\"polar\":{\"bgcolor\":\"#E5ECF6\",\"angularaxis\":{\"gridcolor\":\"white\",\"linecolor\":\"white\",\"ticks\":\"\"},\"radialaxis\":{\"gridcolor\":\"white\",\"linecolor\":\"white\",\"ticks\":\"\"}},\"ternary\":{\"bgcolor\":\"#E5ECF6\",\"aaxis\":{\"gridcolor\":\"white\",\"linecolor\":\"white\",\"ticks\":\"\"},\"baxis\":{\"gridcolor\":\"white\",\"linecolor\":\"white\",\"ticks\":\"\"},\"caxis\":{\"gridcolor\":\"white\",\"linecolor\":\"white\",\"ticks\":\"\"}},\"coloraxis\":{\"colorbar\":{\"outlinewidth\":0,\"ticks\":\"\"}},\"colorscale\":{\"sequential\":[[0.0,\"#0d0887\"],[0.1111111111111111,\"#46039f\"],[0.2222222222222222,\"#7201a8\"],[0.3333333333333333,\"#9c179e\"],[0.4444444444444444,\"#bd3786\"],[0.5555555555555556,\"#d8576b\"],[0.6666666666666666,\"#ed7953\"],[0.7777777777777778,\"#fb9f3a\"],[0.8888888888888888,\"#fdca26\"],[1.0,\"#f0f921\"]],\"sequentialminus\":[[0.0,\"#0d0887\"],[0.1111111111111111,\"#46039f\"],[0.2222222222222222,\"#7201a8\"],[0.3333333333333333,\"#9c179e\"],[0.4444444444444444,\"#bd3786\"],[0.5555555555555556,\"#d8576b\"],[0.6666666666666666,\"#ed7953\"],[0.7777777777777778,\"#fb9f3a\"],[0.8888888888888888,\"#fdca26\"],[1.0,\"#f0f921\"]],\"diverging\":[[0,\"#8e0152\"],[0.1,\"#c51b7d\"],[0.2,\"#de77ae\"],[0.3,\"#f1b6da\"],[0.4,\"#fde0ef\"],[0.5,\"#f7f7f7\"],[0.6,\"#e6f5d0\"],[0.7,\"#b8e186\"],[0.8,\"#7fbc41\"],[0.9,\"#4d9221\"],[1,\"#276419\"]]},\"xaxis\":{\"gridcolor\":\"white\",\"linecolor\":\"white\",\"ticks\":\"\",\"title\":{\"standoff\":15},\"zerolinecolor\":\"white\",\"automargin\":true,\"zerolinewidth\":2},\"yaxis\":{\"gridcolor\":\"white\",\"linecolor\":\"white\",\"ticks\":\"\",\"title\":{\"standoff\":15},\"zerolinecolor\":\"white\",\"automargin\":true,\"zerolinewidth\":2},\"scene\":{\"xaxis\":{\"backgroundcolor\":\"#E5ECF6\",\"gridcolor\":\"white\",\"linecolor\":\"white\",\"showbackground\":true,\"ticks\":\"\",\"zerolinecolor\":\"white\",\"gridwidth\":2},\"yaxis\":{\"backgroundcolor\":\"#E5ECF6\",\"gridcolor\":\"white\",\"linecolor\":\"white\",\"showbackground\":true,\"ticks\":\"\",\"zerolinecolor\":\"white\",\"gridwidth\":2},\"zaxis\":{\"backgroundcolor\":\"#E5ECF6\",\"gridcolor\":\"white\",\"linecolor\":\"white\",\"showbackground\":true,\"ticks\":\"\",\"zerolinecolor\":\"white\",\"gridwidth\":2}},\"shapedefaults\":{\"line\":{\"color\":\"#2a3f5f\"}},\"annotationdefaults\":{\"arrowcolor\":\"#2a3f5f\",\"arrowhead\":0,\"arrowwidth\":1},\"geo\":{\"bgcolor\":\"white\",\"landcolor\":\"#E5ECF6\",\"subunitcolor\":\"white\",\"showland\":true,\"showlakes\":true,\"lakecolor\":\"white\"},\"title\":{\"x\":0.05},\"mapbox\":{\"style\":\"light\"}}},\"xaxis\":{\"anchor\":\"y\",\"domain\":[0.0,1.0],\"title\":{\"text\":\"product_category\"}},\"yaxis\":{\"anchor\":\"x\",\"domain\":[0.0,1.0],\"title\":{\"text\":\"counts\"}},\"legend\":{\"title\":{\"text\":\"sentiment\"},\"tracegroupgap\":0},\"margin\":{\"t\":60},\"barmode\":\"group\"},                        {\"responsive\": true}                    ).then(function(){\n",
       "                            \n",
       "var gd = document.getElementById('1d786835-c83e-4e5b-8667-35b130a0af7b');\n",
       "var x = new MutationObserver(function (mutations, observer) {{\n",
       "        var display = window.getComputedStyle(gd).display;\n",
       "        if (!display || display === 'none') {{\n",
       "            console.log([gd, 'removed!']);\n",
       "            Plotly.purge(gd);\n",
       "            observer.disconnect();\n",
       "        }}\n",
       "}});\n",
       "\n",
       "// Listen for the removal of the full notebook cells\n",
       "var notebookContainer = gd.closest('#notebook-container');\n",
       "if (notebookContainer) {{\n",
       "    x.observe(notebookContainer, {childList: true});\n",
       "}}\n",
       "\n",
       "// Listen for the clearing of the current output cell\n",
       "var outputEl = gd.closest('.output');\n",
       "if (outputEl) {{\n",
       "    x.observe(outputEl, {childList: true});\n",
       "}}\n",
       "\n",
       "                        })                };                });            </script>        </div>"
      ]
     },
     "metadata": {},
     "output_type": "display_data"
    }
   ],
   "source": [
    "px.bar(df, x='product_category', y='counts', color = 'sentiment', barmode = 'group')"
   ]
  },
  {
   "cell_type": "code",
   "execution_count": null,
   "id": "636ae7ef-d7a4-481e-8c9a-688e7426baf9",
   "metadata": {},
   "outputs": [],
   "source": []
  }
 ],
 "metadata": {
  "kernelspec": {
   "display_name": "Python 3 (ipykernel)",
   "language": "python",
   "name": "python3"
  },
  "language_info": {
   "codemirror_mode": {
    "name": "ipython",
    "version": 3
   },
   "file_extension": ".py",
   "mimetype": "text/x-python",
   "name": "python",
   "nbconvert_exporter": "python",
   "pygments_lexer": "ipython3",
   "version": "3.10.9"
  }
 },
 "nbformat": 4,
 "nbformat_minor": 5
}
